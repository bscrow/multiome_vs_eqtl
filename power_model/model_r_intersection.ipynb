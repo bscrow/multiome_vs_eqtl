{
 "cells": [
  {
   "cell_type": "code",
   "execution_count": 1,
   "id": "bacd0a71-e565-457d-8b2c-5aa617859728",
   "metadata": {
    "execution": {
     "iopub.execute_input": "2024-10-17T21:23:15.177671Z",
     "iopub.status.busy": "2024-10-17T21:23:15.131669Z",
     "iopub.status.idle": "2024-10-17T21:23:55.257974Z",
     "shell.execute_reply": "2024-10-17T21:23:55.212795Z"
    }
   },
   "outputs": [
    {
     "name": "stderr",
     "output_type": "stream",
     "text": [
      "── \u001b[1mAttaching core tidyverse packages\u001b[22m ──────────────────────── tidyverse 2.0.0 ──\n",
      "\u001b[32m✔\u001b[39m \u001b[34mdplyr    \u001b[39m 1.1.4     \u001b[32m✔\u001b[39m \u001b[34mreadr    \u001b[39m 2.1.5\n",
      "\u001b[32m✔\u001b[39m \u001b[34mforcats  \u001b[39m 1.0.0     \u001b[32m✔\u001b[39m \u001b[34mstringr  \u001b[39m 1.5.1\n",
      "\u001b[32m✔\u001b[39m \u001b[34mggplot2  \u001b[39m 3.5.1     \u001b[32m✔\u001b[39m \u001b[34mtibble   \u001b[39m 3.2.1\n",
      "\u001b[32m✔\u001b[39m \u001b[34mlubridate\u001b[39m 1.9.3     \u001b[32m✔\u001b[39m \u001b[34mtidyr    \u001b[39m 1.3.1\n",
      "\u001b[32m✔\u001b[39m \u001b[34mpurrr    \u001b[39m 1.0.2     \n",
      "── \u001b[1mConflicts\u001b[22m ────────────────────────────────────────── tidyverse_conflicts() ──\n",
      "\u001b[31m✖\u001b[39m \u001b[34mdplyr\u001b[39m::\u001b[32mfilter()\u001b[39m masks \u001b[34mstats\u001b[39m::filter()\n",
      "\u001b[31m✖\u001b[39m \u001b[34mdplyr\u001b[39m::\u001b[32mlag()\u001b[39m    masks \u001b[34mstats\u001b[39m::lag()\n",
      "\u001b[36mℹ\u001b[39m Use the conflicted package (\u001b[3m\u001b[34m<http://conflicted.r-lib.org/>\u001b[39m\u001b[23m) to force all conflicts to become errors\n",
      "\n",
      "Attaching package: ‘data.table’\n",
      "\n",
      "\n",
      "The following objects are masked from ‘package:lubridate’:\n",
      "\n",
      "    hour, isoweek, mday, minute, month, quarter, second, wday, week,\n",
      "    yday, year\n",
      "\n",
      "\n",
      "The following objects are masked from ‘package:dplyr’:\n",
      "\n",
      "    between, first, last\n",
      "\n",
      "\n",
      "The following object is masked from ‘package:purrr’:\n",
      "\n",
      "    transpose\n",
      "\n",
      "\n",
      "Type 'citation(\"pROC\")' for a citation.\n",
      "\n",
      "\n",
      "Attaching package: ‘pROC’\n",
      "\n",
      "\n",
      "The following objects are masked from ‘package:stats’:\n",
      "\n",
      "    cov, smooth, var\n",
      "\n",
      "\n"
     ]
    }
   ],
   "source": [
    "library(tidyverse)\n",
    "library(stats)\n",
    "library(data.table)\n",
    "library(pROC)\n",
    "library(betareg)"
   ]
  },
  {
   "cell_type": "code",
   "execution_count": null,
   "id": "77892414-013b-4fda-9668-f30897225a69",
   "metadata": {
    "execution": {
     "execution_failed": "2024-10-17T22:31:05.148Z",
     "iopub.execute_input": "2024-10-17T21:27:18.947578Z",
     "iopub.status.busy": "2024-10-17T21:27:18.517539Z"
    }
   },
   "outputs": [
    {
     "name": "stderr",
     "output_type": "stream",
     "text": [
      "\u001b[1m\u001b[22mNew names:\n",
      "\u001b[36m•\u001b[39m `` -> `...1`\n",
      "\u001b[1mRows: \u001b[22m\u001b[34m246884\u001b[39m \u001b[1mColumns: \u001b[22m\u001b[34m151\u001b[39m\n",
      "\u001b[36m──\u001b[39m \u001b[1mColumn specification\u001b[22m \u001b[36m────────────────────────────────────────────────────────\u001b[39m\n",
      "\u001b[1mDelimiter:\u001b[22m \"\\t\"\n",
      "\u001b[31mchr\u001b[39m (21): region, chr, gene, trait, gene_region, variant, gene_symbol, Featu...\n",
      "\u001b[32mdbl\u001b[39m (54): ...1, start, end, cs_id, chromosome, gene_start, gene_end, tss, co...\n",
      "\u001b[33mlgl\u001b[39m (76): gold, coloc_prior, coding_prior, abc_prior, popsexpr_prior, twas_p...\n",
      "\n",
      "\u001b[36mℹ\u001b[39m Use `spec()` to retrieve the full column specification for this data.\n",
      "\u001b[36mℹ\u001b[39m Specify the column types or set `show_col_types = FALSE` to quiet this message.\n",
      "\u001b[1m\u001b[22mNew names:\n",
      "\u001b[36m•\u001b[39m `` -> `...1`\n",
      "\u001b[1mRows: \u001b[22m\u001b[34m3893164\u001b[39m \u001b[1mColumns: \u001b[22m\u001b[34m20\u001b[39m\n",
      "\u001b[36m──\u001b[39m \u001b[1mColumn specification\u001b[22m \u001b[36m────────────────────────────────────────────────────────\u001b[39m\n",
      "\u001b[1mDelimiter:\u001b[22m \"\\t\"\n",
      "\u001b[31mchr\u001b[39m  (5): rsID, Gene_symbol, gene, chr, region\n",
      "\u001b[32mdbl\u001b[39m (15): ...1, SCENT, SCENT_percentile, Signac, Signac_percentile, ArchR, A...\n",
      "\n",
      "\u001b[36mℹ\u001b[39m Use `spec()` to retrieve the full column specification for this data.\n",
      "\u001b[36mℹ\u001b[39m Specify the column types or set `show_col_types = FALSE` to quiet this message.\n",
      "\u001b[1m\u001b[22mNew names:\n",
      "\u001b[36m•\u001b[39m `` -> `...1`\n"
     ]
    }
   ],
   "source": [
    "# load data\n",
    "data_dir <- \"/projects/zhanglab/users/ana/multiome/validation/gentruth/model/train/\" \n",
    "gwas_pops <- data_dir %>%\n",
    "    paste0(\"pops_eval.tsv.gz\") %>% \n",
    "    read_tsv() %>% \n",
    "    data.frame() %>% \n",
    "    dplyr::select(region, chr, start, gene, pli, cts, dist, pops_score, trait) %>% \n",
    "    dplyr::mutate(gwas=1) %>%\n",
    "    dplyr::group_by(trait, region) %>%\n",
    "    dplyr::mutate(\n",
    "        pops_priority = if_else(pops_score == max(pops_score), 1, 0) # all snps since score is gene level\n",
    "    ) %>%\n",
    "    dplyr::ungroup()\n",
    "\n",
    "multiome_pgb <- data_dir %>% \n",
    "    paste0(\"pgb_constituents.tsv.gz\") %>% \n",
    "    read_tsv() %>% \n",
    "    data.frame() %>% \n",
    "    dplyr::select(region, chr, start, gene, pli, cts, dist, SCENT) %>% \n",
    "    dplyr::mutate(\n",
    "        multiome=1, \n",
    "        multiome_finemap = if_else(SCENT<=0.05, 1, 0)\n",
    "    )\n",
    "\n",
    "eqtl_gtex_susie <- data_dir %>% \n",
    "    paste0(\"gtex_susie.tsv.gz\") %>% \n",
    "    read_tsv() %>% \n",
    "    data.frame() %>% \n",
    "    dplyr::select(region, chr, start, gene, pli, cts, dist, pip, tissue) %>% \n",
    "    dplyr::mutate(eqtl=1) %>% \n",
    "    group_by(tissue, gene) %>%\n",
    "    arrange(desc(pip)) %>%\n",
    "    mutate(\n",
    "        cumulative_pip = cumsum(pip),\n",
    "        credible_set = if_else(\n",
    "            (cumulative_pip <= 0.95 | row_number() == 1), 1, 0\n",
    "            # (cumulative_pip <= 0.95 | row_number() == 1) & row_number() <= 10, 1, 0\n",
    "        ), \n",
    "        max_pip = if_else(row_number() == 1, 1, 0)\n",
    "    ) %>%\n",
    "    ungroup()\n",
    "# merge to add indicator variables\n",
    "intersection_set <- eqtl_gtex_susie %>% \n",
    "    dplyr::inner_join(\n",
    "        multiome_pgb %>% \n",
    "            dplyr::select(chr, start, gene, multiome, multiome_finemap) %>% \n",
    "            distinct(chr, start, gene, .keep_all = TRUE),\n",
    "        by=c(\"chr\", \"start\", \"gene\")\n",
    "    ) %>% \n",
    "    dplyr::inner_join(\n",
    "        gwas_pops %>% \n",
    "            dplyr::select(chr, start, gene, gwas, pops_priority, trait) %>% \n",
    "            distinct(chr, start, gene, .keep_all = TRUE),\n",
    "        by=c(\"chr\", \"start\", \"gene\")\n",
    "    ) %>% \n",
    "    dplyr::mutate_all(~replace(., is.na(.), 0))\n",
    "\n",
    "print(dim(intersection_set))\n",
    "print(dim(eqtl_gtex_susie))\n",
    "print(dim(multiome_pgb))\n",
    "print(dim(gwas_pops))"
   ]
  },
  {
   "cell_type": "code",
   "execution_count": null,
   "id": "8fb9129c-a2a5-4eee-9c20-29743469c1a8",
   "metadata": {},
   "outputs": [],
   "source": []
  }
 ],
 "metadata": {
  "kernelspec": {
   "display_name": "R",
   "language": "R",
   "name": "ir"
  },
  "language_info": {
   "codemirror_mode": "r",
   "file_extension": ".r",
   "mimetype": "text/x-r-source",
   "name": "R",
   "pygments_lexer": "r",
   "version": "4.4.1"
  }
 },
 "nbformat": 4,
 "nbformat_minor": 5
}
