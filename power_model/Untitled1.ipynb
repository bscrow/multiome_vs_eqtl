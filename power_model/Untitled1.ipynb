{
 "cells": [
  {
   "cell_type": "code",
   "execution_count": 1,
   "id": "9c873bfb-fada-46e6-a82a-2eba88b5c914",
   "metadata": {
    "execution": {
     "iopub.execute_input": "2024-10-25T18:06:08.746860Z",
     "iopub.status.busy": "2024-10-25T18:06:08.746232Z",
     "iopub.status.idle": "2024-10-25T18:06:11.658728Z",
     "shell.execute_reply": "2024-10-25T18:06:11.658053Z",
     "shell.execute_reply.started": "2024-10-25T18:06:08.746796Z"
    }
   },
   "outputs": [],
   "source": [
    "\n",
    "import pandas as pd\n",
    "import numpy as np\n",
    "import matplotlib.pyplot as plt\n",
    "from tqdm.auto import tqdm\n",
    "pd.set_option('display.max_columns', None)\n"
   ]
  },
  {
   "cell_type": "code",
   "execution_count": 2,
   "id": "929427d2-2799-4fa5-8314-3c493243ad44",
   "metadata": {
    "execution": {
     "iopub.execute_input": "2024-10-25T18:06:11.663993Z",
     "iopub.status.busy": "2024-10-25T18:06:11.662197Z",
     "iopub.status.idle": "2024-10-25T18:06:48.862783Z",
     "shell.execute_reply": "2024-10-25T18:06:48.862389Z",
     "shell.execute_reply.started": "2024-10-25T18:06:11.663951Z"
    },
    "scrolled": true
   },
   "outputs": [
    {
     "data": {
      "text/plain": [
       "(         region   chr      start             gene  pli       cts      dist  \\\n",
       " 0   chr1:632834  chr1   632834.0  ENSG00000235098  0.0  7.137414  788426.0   \n",
       " 1   chr1:898547  chr1   898547.0  ENSG00000235098  0.0  7.137414  522713.0   \n",
       " 2   chr1:946870  chr1   946870.0  ENSG00000188976  0.0  5.027266   12439.0   \n",
       " 3   chr1:975014  chr1   975014.0  ENSG00000187583  0.0  4.484527   -1502.0   \n",
       " 4  chr1:1016965  chr1  1016965.0  ENSG00000235098  0.0  7.137414  404295.0   \n",
       " \n",
       "    pip                    tissue  eqtl  cumulative_pip  credible_set  \\\n",
       " 0  1.0          Brain_Cerebellum     1             1.0             1   \n",
       " 1  1.0  Brain_Frontal_Cortex_BA9     1             1.0             1   \n",
       " 2  1.0           Muscle_Skeletal     1             1.0             1   \n",
       " 3  1.0           Muscle_Skeletal     1             1.0             1   \n",
       " 4  1.0      Esophagus_Muscularis     1             1.0             1   \n",
       " \n",
       "    multiome  multiome_finemap  gwas  pops_priority  \n",
       " 0         0                 0     0              0  \n",
       " 1         0                 0     0              0  \n",
       " 2         0                 0     0              0  \n",
       " 3         0                 0     0              0  \n",
       " 4         0                 0     0              0  ,\n",
       "                      region   chr        start             gene  pli  \\\n",
       " 0  chr1:100028377-100028378  chr1  100028377.0  ENSG00000162688  0.0   \n",
       " 1  chr1:100028377-100028378  chr1  100028377.0  ENSG00000079335  0.0   \n",
       " 2  chr1:100028377-100028378  chr1  100028377.0  ENSG00000137992  0.0   \n",
       " 3  chr1:100028377-100028378  chr1  100028377.0  ENSG00000156869  0.0   \n",
       " 4  chr1:100028377-100028378  chr1  100028377.0  ENSG00000122477  0.0   \n",
       " \n",
       "         cts      dist  SCENT  multiome  multiome_finemap  gwas  pops_priority  \\\n",
       " 0  7.170039 -175708.0    1.0         1                 0     0              0   \n",
       " 1  6.682904  395354.0    1.0         1                 0     0              0   \n",
       " 2  7.697298  221442.0    1.0         1                 0     0              0   \n",
       " 3  6.088846 -261747.0    1.0         1                 0     0              0   \n",
       " 4  3.725788  149837.0    1.0         1                 0     0              0   \n",
       " \n",
       "    eqtl  credible_set  \n",
       " 0     0             0  \n",
       " 1     0             0  \n",
       " 2     0             0  \n",
       " 3     0             0  \n",
       " 4     0             0  )"
      ]
     },
     "execution_count": 2,
     "metadata": {},
     "output_type": "execute_result"
    }
   ],
   "source": [
    "eqtl = pd.read_csv(\"./processed_data/eqtl_gtex_susie.csv.gz\")\n",
    "multiome = pd.read_csv(\"./processed_data/multiome_pgb.csv.gz\")\n",
    "eqtl.head(), multiome.head()"
   ]
  },
  {
   "cell_type": "code",
   "execution_count": 5,
   "id": "ec8a57e4-8abe-4c0f-8fc2-acffbafbd5d0",
   "metadata": {
    "execution": {
     "iopub.execute_input": "2024-10-25T18:08:45.301084Z",
     "iopub.status.busy": "2024-10-25T18:08:45.300467Z",
     "iopub.status.idle": "2024-10-25T18:08:45.367157Z",
     "shell.execute_reply": "2024-10-25T18:08:45.366318Z",
     "shell.execute_reply.started": "2024-10-25T18:08:45.301028Z"
    }
   },
   "outputs": [
    {
     "data": {
      "text/plain": [
       "(900530, 60946)"
      ]
     },
     "execution_count": 5,
     "metadata": {},
     "output_type": "execute_result"
    }
   ],
   "source": [
    "(eqtl[\"pip\"] > 0.1).sum(), (multiome[\"SCENT\"] < 0.1).sum()"
   ]
  },
  {
   "cell_type": "code",
   "execution_count": 34,
   "id": "73ab444a-edfb-4eb4-acda-93120edd9c5e",
   "metadata": {
    "execution": {
     "iopub.execute_input": "2024-10-25T19:09:39.232825Z",
     "iopub.status.busy": "2024-10-25T19:09:39.232175Z",
     "iopub.status.idle": "2024-10-25T19:09:39.689947Z",
     "shell.execute_reply": "2024-10-25T19:09:39.689386Z",
     "shell.execute_reply.started": "2024-10-25T19:09:39.232771Z"
    }
   },
   "outputs": [
    {
     "data": {
      "text/plain": [
       "((91922, 16), (172987, 16))"
      ]
     },
     "execution_count": 34,
     "metadata": {},
     "output_type": "execute_result"
    }
   ],
   "source": [
    "eqtl[(eqtl[\"pip\"] > 0.1) & (eqtl[\"cts\"] > 10)].drop_duplicates([\"region\",\"gene\"]).shape, eqtl[(eqtl[\"pip\"] > 0.1) & (eqtl[\"cts\"] <= 10)].drop_duplicates([\"region\",\"gene\"]).shape"
   ]
  },
  {
   "cell_type": "code",
   "execution_count": 39,
   "id": "9ebb91db-3f3a-4184-a851-5fb543c578bd",
   "metadata": {
    "execution": {
     "iopub.execute_input": "2024-10-25T19:13:00.586572Z",
     "iopub.status.busy": "2024-10-25T19:13:00.585976Z",
     "iopub.status.idle": "2024-10-25T19:13:00.667111Z",
     "shell.execute_reply": "2024-10-25T19:13:00.666291Z",
     "shell.execute_reply.started": "2024-10-25T19:13:00.586520Z"
    }
   },
   "outputs": [
    {
     "data": {
      "text/plain": [
       "((40385, 14), (20561, 14))"
      ]
     },
     "execution_count": 39,
     "metadata": {},
     "output_type": "execute_result"
    }
   ],
   "source": [
    "multiome[(multiome[\"SCENT\"] < 0.1) & (multiome[\"cts\"] > 10)].drop_duplicates([\"region\",\"gene\"]).shape, multiome[(multiome[\"SCENT\"] < 0.1) & (multiome[\"cts\"] <= 10)].drop_duplicates([\"region\",\"gene\"]).shape"
   ]
  },
  {
   "cell_type": "code",
   "execution_count": 37,
   "id": "1f3cc66c-2bec-4eb6-ba80-d0a69f22e3f9",
   "metadata": {
    "execution": {
     "iopub.execute_input": "2024-10-25T19:11:56.188511Z",
     "iopub.status.busy": "2024-10-25T19:11:56.187881Z",
     "iopub.status.idle": "2024-10-25T19:11:56.267918Z",
     "shell.execute_reply": "2024-10-25T19:11:56.267152Z",
     "shell.execute_reply.started": "2024-10-25T19:11:56.188457Z"
    }
   },
   "outputs": [
    {
     "data": {
      "text/plain": [
       "((14514, 14), (46432, 14))"
      ]
     },
     "execution_count": 37,
     "metadata": {},
     "output_type": "execute_result"
    }
   ],
   "source": [
    "multiome[(multiome[\"SCENT\"] < 0.1) & (multiome[\"pli\"] > 0.9)].drop_duplicates([\"region\",\"gene\"]).shape, multiome[(multiome[\"SCENT\"] < 0.1) & (multiome[\"pli\"] <= 0.9)].drop_duplicates([\"region\",\"gene\"]).shape"
   ]
  },
  {
   "cell_type": "code",
   "execution_count": 40,
   "id": "2fa5eb41-6113-4fa1-9b0b-f1047454cbcb",
   "metadata": {
    "execution": {
     "iopub.execute_input": "2024-10-25T19:17:53.820109Z",
     "iopub.status.busy": "2024-10-25T19:17:53.819465Z",
     "iopub.status.idle": "2024-10-25T19:17:54.285440Z",
     "shell.execute_reply": "2024-10-25T19:17:54.284702Z",
     "shell.execute_reply.started": "2024-10-25T19:17:53.820057Z"
    }
   },
   "outputs": [
    {
     "data": {
      "text/plain": [
       "((29500, 16), (235409, 16))"
      ]
     },
     "execution_count": 40,
     "metadata": {},
     "output_type": "execute_result"
    }
   ],
   "source": [
    "eqtl[(eqtl[\"pip\"] > 0.1) & (eqtl[\"pli\"] > 0.9)].drop_duplicates([\"region\",\"gene\"]).shape, eqtl[(eqtl[\"pip\"] > 0.1) & (eqtl[\"pli\"] <= 0.9)].drop_duplicates([\"region\",\"gene\"]).shape"
   ]
  },
  {
   "cell_type": "code",
   "execution_count": 85,
   "id": "b80495df-5420-410b-8495-b2df361ddda6",
   "metadata": {
    "execution": {
     "iopub.execute_input": "2024-10-25T11:36:23.826082Z",
     "iopub.status.busy": "2024-10-25T11:36:23.825525Z",
     "iopub.status.idle": "2024-10-25T11:36:38.979971Z",
     "shell.execute_reply": "2024-10-25T11:36:38.979600Z",
     "shell.execute_reply.started": "2024-10-25T11:36:23.826034Z"
    }
   },
   "outputs": [
    {
     "data": {
      "text/plain": [
       "((16882, 27), (12678, 27))"
      ]
     },
     "execution_count": 85,
     "metadata": {},
     "output_type": "execute_result"
    }
   ],
   "source": [
    "intersection = multiome.merge(eqtl, how=\"inner\", on=[\"chr\", \"start\", \"gene\"])\n",
    "intersection_cleaned = intersection.drop_duplicates(subset=[\"chr\", \"start\", \"gene\", \"tissue\"])\n",
    "intersection.shape, intersection_cleaned.shape"
   ]
  },
  {
   "cell_type": "code",
   "execution_count": 91,
   "id": "0c14443b-e7bf-4299-a7c4-2cb21b6301a4",
   "metadata": {
    "execution": {
     "iopub.execute_input": "2024-10-25T11:48:23.676622Z",
     "iopub.status.busy": "2024-10-25T11:48:23.675956Z",
     "iopub.status.idle": "2024-10-25T11:48:23.707231Z",
     "shell.execute_reply": "2024-10-25T11:48:23.706414Z",
     "shell.execute_reply.started": "2024-10-25T11:48:23.676569Z"
    }
   },
   "outputs": [],
   "source": [
    "intersection_cleaned = intersection.drop_duplicates(subset=[\"chr\", \"start\", \"gene\", \"tissue\"]).copy()\n",
    "intersection_cleaned[\"eqtl_pass\"] = intersection_cleaned[\"pip\"] >= 0.1\n",
    "intersection_cleaned[\"scent_pass\"] = intersection_cleaned[\"SCENT\"] <= 0.1\n"
   ]
  },
  {
   "cell_type": "code",
   "execution_count": 92,
   "id": "ae5e7fdf-927a-4054-ae28-38824a9261e7",
   "metadata": {
    "execution": {
     "iopub.execute_input": "2024-10-25T11:48:26.405272Z",
     "iopub.status.busy": "2024-10-25T11:48:26.404236Z",
     "iopub.status.idle": "2024-10-25T11:48:26.419312Z",
     "shell.execute_reply": "2024-10-25T11:48:26.418551Z",
     "shell.execute_reply.started": "2024-10-25T11:48:26.405215Z"
    }
   },
   "outputs": [
    {
     "data": {
      "text/plain": [
       "eqtl_pass  scent_pass\n",
       "False      False         4267\n",
       "True       False          286\n",
       "False      True            85\n",
       "True       True             5\n",
       "Name: count, dtype: int64"
      ]
     },
     "execution_count": 92,
     "metadata": {},
     "output_type": "execute_result"
    }
   ],
   "source": [
    "intersection_cleaned[intersection_cleaned[\"cts_y\"] >10].value_counts([\"eqtl_pass\", \"scent_pass\"])"
   ]
  },
  {
   "cell_type": "code",
   "execution_count": 93,
   "id": "55a56b62-6130-4a2a-959a-295aa9bed239",
   "metadata": {
    "execution": {
     "iopub.execute_input": "2024-10-25T11:48:26.862632Z",
     "iopub.status.busy": "2024-10-25T11:48:26.862043Z",
     "iopub.status.idle": "2024-10-25T11:48:26.876474Z",
     "shell.execute_reply": "2024-10-25T11:48:26.875833Z",
     "shell.execute_reply.started": "2024-10-25T11:48:26.862581Z"
    }
   },
   "outputs": [
    {
     "data": {
      "text/plain": [
       "eqtl_pass  scent_pass\n",
       "False      False         7542\n",
       "True       False          380\n",
       "False      True            97\n",
       "True       True            16\n",
       "Name: count, dtype: int64"
      ]
     },
     "execution_count": 93,
     "metadata": {},
     "output_type": "execute_result"
    }
   ],
   "source": [
    "intersection_cleaned[intersection_cleaned[\"cts_y\"] <=10].value_counts([\"eqtl_pass\", \"scent_pass\"])"
   ]
  },
  {
   "cell_type": "code",
   "execution_count": 94,
   "id": "20089eb7-2b7d-458b-b4ad-526b38935a27",
   "metadata": {
    "execution": {
     "iopub.execute_input": "2024-10-25T11:48:28.642588Z",
     "iopub.status.busy": "2024-10-25T11:48:28.641999Z",
     "iopub.status.idle": "2024-10-25T11:48:28.652473Z",
     "shell.execute_reply": "2024-10-25T11:48:28.651837Z",
     "shell.execute_reply.started": "2024-10-25T11:48:28.642535Z"
    }
   },
   "outputs": [
    {
     "data": {
      "text/plain": [
       "eqtl_pass  scent_pass\n",
       "False      False         1229\n",
       "True       False           43\n",
       "False      True            38\n",
       "True       True             1\n",
       "Name: count, dtype: int64"
      ]
     },
     "execution_count": 94,
     "metadata": {},
     "output_type": "execute_result"
    }
   ],
   "source": [
    "intersection_cleaned[intersection_cleaned[\"pli_y\"] >0.9].value_counts([\"eqtl_pass\", \"scent_pass\"])"
   ]
  },
  {
   "cell_type": "code",
   "execution_count": 95,
   "id": "66111e2f-f024-4ac2-96b9-16ca0d30c2c9",
   "metadata": {
    "execution": {
     "iopub.execute_input": "2024-10-25T11:48:29.380824Z",
     "iopub.status.busy": "2024-10-25T11:48:29.380215Z",
     "iopub.status.idle": "2024-10-25T11:48:29.395177Z",
     "shell.execute_reply": "2024-10-25T11:48:29.394517Z",
     "shell.execute_reply.started": "2024-10-25T11:48:29.380763Z"
    }
   },
   "outputs": [
    {
     "data": {
      "text/plain": [
       "eqtl_pass  scent_pass\n",
       "False      False         10580\n",
       "True       False           623\n",
       "False      True            144\n",
       "True       True             20\n",
       "Name: count, dtype: int64"
      ]
     },
     "execution_count": 95,
     "metadata": {},
     "output_type": "execute_result"
    }
   ],
   "source": [
    "intersection_cleaned[intersection_cleaned[\"pli_y\"] <= 0.9].value_counts([\"eqtl_pass\", \"scent_pass\"])"
   ]
  },
  {
   "cell_type": "code",
   "execution_count": 6,
   "id": "a0dec154-4598-472d-9eb2-8e48c836d636",
   "metadata": {
    "execution": {
     "iopub.execute_input": "2024-10-25T18:42:23.388994Z",
     "iopub.status.busy": "2024-10-25T18:42:23.388343Z",
     "iopub.status.idle": "2024-10-25T18:42:23.504477Z",
     "shell.execute_reply": "2024-10-25T18:42:23.503897Z",
     "shell.execute_reply.started": "2024-10-25T18:42:23.388945Z"
    }
   },
   "outputs": [
    {
     "data": {
      "text/html": [
       "<div>\n",
       "<style scoped>\n",
       "    .dataframe tbody tr th:only-of-type {\n",
       "        vertical-align: middle;\n",
       "    }\n",
       "\n",
       "    .dataframe tbody tr th {\n",
       "        vertical-align: top;\n",
       "    }\n",
       "\n",
       "    .dataframe thead th {\n",
       "        text-align: right;\n",
       "    }\n",
       "</style>\n",
       "<table border=\"1\" class=\"dataframe\">\n",
       "  <thead>\n",
       "    <tr style=\"text-align: right;\">\n",
       "      <th></th>\n",
       "      <th>dataset</th>\n",
       "      <th>chrom</th>\n",
       "      <th>chromStart</th>\n",
       "      <th>chromEnd</th>\n",
       "      <th>name</th>\n",
       "      <th>EffectSize</th>\n",
       "      <th>chrTSS</th>\n",
       "      <th>startTSS</th>\n",
       "      <th>endTSS</th>\n",
       "      <th>measuredGeneSymbol</th>\n",
       "      <th>Significant</th>\n",
       "      <th>pValueAdjusted</th>\n",
       "      <th>PowerAtEffectSize25</th>\n",
       "      <th>ValidConnection</th>\n",
       "      <th>CellType</th>\n",
       "      <th>Reference</th>\n",
       "      <th>Regulated</th>\n",
       "      <th>PowerAtEffectSize10</th>\n",
       "      <th>PowerAtEffectSize15</th>\n",
       "      <th>PowerAtEffectSize20</th>\n",
       "      <th>PowerAtEffectSize50</th>\n",
       "      <th>pair_uid</th>\n",
       "      <th>merged_uid</th>\n",
       "      <th>merged_start</th>\n",
       "      <th>merged_end</th>\n",
       "    </tr>\n",
       "  </thead>\n",
       "  <tbody>\n",
       "    <tr>\n",
       "      <th>0</th>\n",
       "      <td>FlowFISH_K562</td>\n",
       "      <td>chr1</td>\n",
       "      <td>3774714</td>\n",
       "      <td>3775214</td>\n",
       "      <td>CEP104|chr1:3691278-3691778:*</td>\n",
       "      <td>-0.293432</td>\n",
       "      <td>chr1</td>\n",
       "      <td>3857213.0</td>\n",
       "      <td>3857214.0</td>\n",
       "      <td>CEP104</td>\n",
       "      <td>True</td>\n",
       "      <td>0.004024</td>\n",
       "      <td>0.825094</td>\n",
       "      <td>True</td>\n",
       "      <td>K562</td>\n",
       "      <td>Ulirsch2016</td>\n",
       "      <td>True</td>\n",
       "      <td>NaN</td>\n",
       "      <td>NaN</td>\n",
       "      <td>NaN</td>\n",
       "      <td>NaN</td>\n",
       "      <td>FlowFISH_K562|CEP104|chr1:3691278-3691778:*</td>\n",
       "      <td>1</td>\n",
       "      <td>3774714</td>\n",
       "      <td>3775214</td>\n",
       "    </tr>\n",
       "    <tr>\n",
       "      <th>1</th>\n",
       "      <td>FlowFISH_K562</td>\n",
       "      <td>chr1</td>\n",
       "      <td>3774714</td>\n",
       "      <td>3775214</td>\n",
       "      <td>LRRC47|chr1:3691278-3691778:*</td>\n",
       "      <td>-0.331178</td>\n",
       "      <td>chr1</td>\n",
       "      <td>3796503.0</td>\n",
       "      <td>3796504.0</td>\n",
       "      <td>LRRC47</td>\n",
       "      <td>True</td>\n",
       "      <td>0.007771</td>\n",
       "      <td>0.608994</td>\n",
       "      <td>True</td>\n",
       "      <td>K562</td>\n",
       "      <td>Ulirsch2016</td>\n",
       "      <td>True</td>\n",
       "      <td>NaN</td>\n",
       "      <td>NaN</td>\n",
       "      <td>NaN</td>\n",
       "      <td>NaN</td>\n",
       "      <td>FlowFISH_K562|LRRC47|chr1:3691278-3691778:*</td>\n",
       "      <td>2</td>\n",
       "      <td>3774714</td>\n",
       "      <td>3775214</td>\n",
       "    </tr>\n",
       "    <tr>\n",
       "      <th>2</th>\n",
       "      <td>Gasperini2019</td>\n",
       "      <td>chr1</td>\n",
       "      <td>3803570</td>\n",
       "      <td>3805848</td>\n",
       "      <td>LRRC47|chr1:3720134-3722412:.</td>\n",
       "      <td>-0.001471</td>\n",
       "      <td>chr1</td>\n",
       "      <td>3796503.0</td>\n",
       "      <td>3796504.0</td>\n",
       "      <td>LRRC47</td>\n",
       "      <td>False</td>\n",
       "      <td>0.999918</td>\n",
       "      <td>1.000000</td>\n",
       "      <td>True</td>\n",
       "      <td>K562</td>\n",
       "      <td>Gasperini et al., 2019</td>\n",
       "      <td>False</td>\n",
       "      <td>0.4</td>\n",
       "      <td>0.80</td>\n",
       "      <td>0.85</td>\n",
       "      <td>1.0</td>\n",
       "      <td>Gasperini2019|LRRC47|chr1:3720134-3722412:.</td>\n",
       "      <td>3</td>\n",
       "      <td>3803570</td>\n",
       "      <td>3805848</td>\n",
       "    </tr>\n",
       "    <tr>\n",
       "      <th>3</th>\n",
       "      <td>FlowFISH_K562</td>\n",
       "      <td>chr1</td>\n",
       "      <td>3774714</td>\n",
       "      <td>3775214</td>\n",
       "      <td>SMIM1|chr1:3691278-3691778:*</td>\n",
       "      <td>-0.472019</td>\n",
       "      <td>chr1</td>\n",
       "      <td>3772761.0</td>\n",
       "      <td>3772762.0</td>\n",
       "      <td>SMIM1</td>\n",
       "      <td>True</td>\n",
       "      <td>0.000642</td>\n",
       "      <td>0.639332</td>\n",
       "      <td>True</td>\n",
       "      <td>K562</td>\n",
       "      <td>Ulirsch2016</td>\n",
       "      <td>True</td>\n",
       "      <td>NaN</td>\n",
       "      <td>NaN</td>\n",
       "      <td>NaN</td>\n",
       "      <td>NaN</td>\n",
       "      <td>FlowFISH_K562|SMIM1|chr1:3691278-3691778:*</td>\n",
       "      <td>4</td>\n",
       "      <td>3774714</td>\n",
       "      <td>3775214</td>\n",
       "    </tr>\n",
       "    <tr>\n",
       "      <th>4</th>\n",
       "      <td>Gasperini2019</td>\n",
       "      <td>chr1</td>\n",
       "      <td>3803570</td>\n",
       "      <td>3805848</td>\n",
       "      <td>SMIM1|chr1:3720134-3722412:.</td>\n",
       "      <td>0.025677</td>\n",
       "      <td>chr1</td>\n",
       "      <td>3772788.0</td>\n",
       "      <td>3772789.0</td>\n",
       "      <td>SMIM1</td>\n",
       "      <td>False</td>\n",
       "      <td>0.994160</td>\n",
       "      <td>1.000000</td>\n",
       "      <td>True</td>\n",
       "      <td>K562</td>\n",
       "      <td>Gasperini et al., 2019</td>\n",
       "      <td>False</td>\n",
       "      <td>0.8</td>\n",
       "      <td>0.85</td>\n",
       "      <td>1.00</td>\n",
       "      <td>1.0</td>\n",
       "      <td>Gasperini2019|SMIM1|chr1:3720134-3722412:.</td>\n",
       "      <td>5</td>\n",
       "      <td>3803570</td>\n",
       "      <td>3805848</td>\n",
       "    </tr>\n",
       "  </tbody>\n",
       "</table>\n",
       "</div>"
      ],
      "text/plain": [
       "         dataset chrom  chromStart  chromEnd                           name  \\\n",
       "0  FlowFISH_K562  chr1     3774714   3775214  CEP104|chr1:3691278-3691778:*   \n",
       "1  FlowFISH_K562  chr1     3774714   3775214  LRRC47|chr1:3691278-3691778:*   \n",
       "2  Gasperini2019  chr1     3803570   3805848  LRRC47|chr1:3720134-3722412:.   \n",
       "3  FlowFISH_K562  chr1     3774714   3775214   SMIM1|chr1:3691278-3691778:*   \n",
       "4  Gasperini2019  chr1     3803570   3805848   SMIM1|chr1:3720134-3722412:.   \n",
       "\n",
       "   EffectSize chrTSS   startTSS     endTSS measuredGeneSymbol  Significant  \\\n",
       "0   -0.293432   chr1  3857213.0  3857214.0             CEP104         True   \n",
       "1   -0.331178   chr1  3796503.0  3796504.0             LRRC47         True   \n",
       "2   -0.001471   chr1  3796503.0  3796504.0             LRRC47        False   \n",
       "3   -0.472019   chr1  3772761.0  3772762.0              SMIM1         True   \n",
       "4    0.025677   chr1  3772788.0  3772789.0              SMIM1        False   \n",
       "\n",
       "   pValueAdjusted  PowerAtEffectSize25  ValidConnection CellType  \\\n",
       "0        0.004024             0.825094             True     K562   \n",
       "1        0.007771             0.608994             True     K562   \n",
       "2        0.999918             1.000000             True     K562   \n",
       "3        0.000642             0.639332             True     K562   \n",
       "4        0.994160             1.000000             True     K562   \n",
       "\n",
       "                Reference Regulated  PowerAtEffectSize10  PowerAtEffectSize15  \\\n",
       "0             Ulirsch2016      True                  NaN                  NaN   \n",
       "1             Ulirsch2016      True                  NaN                  NaN   \n",
       "2  Gasperini et al., 2019     False                  0.4                 0.80   \n",
       "3             Ulirsch2016      True                  NaN                  NaN   \n",
       "4  Gasperini et al., 2019     False                  0.8                 0.85   \n",
       "\n",
       "   PowerAtEffectSize20  PowerAtEffectSize50  \\\n",
       "0                  NaN                  NaN   \n",
       "1                  NaN                  NaN   \n",
       "2                 0.85                  1.0   \n",
       "3                  NaN                  NaN   \n",
       "4                 1.00                  1.0   \n",
       "\n",
       "                                      pair_uid  merged_uid  merged_start  \\\n",
       "0  FlowFISH_K562|CEP104|chr1:3691278-3691778:*           1       3774714   \n",
       "1  FlowFISH_K562|LRRC47|chr1:3691278-3691778:*           2       3774714   \n",
       "2  Gasperini2019|LRRC47|chr1:3720134-3722412:.           3       3803570   \n",
       "3   FlowFISH_K562|SMIM1|chr1:3691278-3691778:*           4       3774714   \n",
       "4   Gasperini2019|SMIM1|chr1:3720134-3722412:.           5       3803570   \n",
       "\n",
       "   merged_end  \n",
       "0     3775214  \n",
       "1     3775214  \n",
       "2     3805848  \n",
       "3     3775214  \n",
       "4     3805848  "
      ]
     },
     "execution_count": 6,
     "metadata": {},
     "output_type": "execute_result"
    }
   ],
   "source": [
    "crispr = pd.read_csv(\"./processed_data/EPCrisprBenchmark_ensemble_data_GRCh38.tsv.gz\", sep=\"\\t\")\n",
    "crispr.head()"
   ]
  },
  {
   "cell_type": "code",
   "execution_count": 27,
   "id": "ae27d548-9ffc-46e0-8178-e49fd8b7a304",
   "metadata": {
    "execution": {
     "iopub.execute_input": "2024-10-25T18:59:23.258273Z",
     "iopub.status.busy": "2024-10-25T18:59:23.255616Z",
     "iopub.status.idle": "2024-10-25T18:59:23.919531Z",
     "shell.execute_reply": "2024-10-25T18:59:23.919220Z",
     "shell.execute_reply.started": "2024-10-25T18:59:23.258224Z"
    }
   },
   "outputs": [
    {
     "data": {
      "text/html": [
       "<div>\n",
       "<style scoped>\n",
       "    .dataframe tbody tr th:only-of-type {\n",
       "        vertical-align: middle;\n",
       "    }\n",
       "\n",
       "    .dataframe tbody tr th {\n",
       "        vertical-align: top;\n",
       "    }\n",
       "\n",
       "    .dataframe thead th {\n",
       "        text-align: right;\n",
       "    }\n",
       "</style>\n",
       "<table border=\"1\" class=\"dataframe\">\n",
       "  <thead>\n",
       "    <tr style=\"text-align: right;\">\n",
       "      <th></th>\n",
       "      <th>dataset</th>\n",
       "      <th>chrom</th>\n",
       "      <th>chromStart</th>\n",
       "      <th>chromEnd</th>\n",
       "      <th>name</th>\n",
       "      <th>EffectSize</th>\n",
       "      <th>chrTSS</th>\n",
       "      <th>startTSS</th>\n",
       "      <th>endTSS</th>\n",
       "      <th>measuredGeneSymbol</th>\n",
       "      <th>Significant</th>\n",
       "      <th>pValueAdjusted</th>\n",
       "      <th>PowerAtEffectSize25</th>\n",
       "      <th>ValidConnection</th>\n",
       "      <th>CellType</th>\n",
       "      <th>Reference</th>\n",
       "      <th>Regulated</th>\n",
       "      <th>PowerAtEffectSize10</th>\n",
       "      <th>PowerAtEffectSize15</th>\n",
       "      <th>PowerAtEffectSize20</th>\n",
       "      <th>PowerAtEffectSize50</th>\n",
       "      <th>pair_uid</th>\n",
       "      <th>merged_uid</th>\n",
       "      <th>merged_start</th>\n",
       "      <th>merged_end</th>\n",
       "      <th>Symbol</th>\n",
       "      <th>gene</th>\n",
       "    </tr>\n",
       "  </thead>\n",
       "  <tbody>\n",
       "    <tr>\n",
       "      <th>0</th>\n",
       "      <td>FlowFISH_K562</td>\n",
       "      <td>chr1</td>\n",
       "      <td>3774714</td>\n",
       "      <td>3775214</td>\n",
       "      <td>CEP104|chr1:3691278-3691778:*</td>\n",
       "      <td>-0.293432</td>\n",
       "      <td>chr1</td>\n",
       "      <td>3857213.0</td>\n",
       "      <td>3857214.0</td>\n",
       "      <td>CEP104</td>\n",
       "      <td>True</td>\n",
       "      <td>0.004024</td>\n",
       "      <td>0.825094</td>\n",
       "      <td>True</td>\n",
       "      <td>K562</td>\n",
       "      <td>Ulirsch2016</td>\n",
       "      <td>True</td>\n",
       "      <td>NaN</td>\n",
       "      <td>NaN</td>\n",
       "      <td>NaN</td>\n",
       "      <td>NaN</td>\n",
       "      <td>FlowFISH_K562|CEP104|chr1:3691278-3691778:*</td>\n",
       "      <td>1</td>\n",
       "      <td>3774714</td>\n",
       "      <td>3775214</td>\n",
       "      <td>CEP104</td>\n",
       "      <td>ENSG00000116198</td>\n",
       "    </tr>\n",
       "    <tr>\n",
       "      <th>1</th>\n",
       "      <td>FlowFISH_K562</td>\n",
       "      <td>chr1</td>\n",
       "      <td>3774714</td>\n",
       "      <td>3775214</td>\n",
       "      <td>LRRC47|chr1:3691278-3691778:*</td>\n",
       "      <td>-0.331178</td>\n",
       "      <td>chr1</td>\n",
       "      <td>3796503.0</td>\n",
       "      <td>3796504.0</td>\n",
       "      <td>LRRC47</td>\n",
       "      <td>True</td>\n",
       "      <td>0.007771</td>\n",
       "      <td>0.608994</td>\n",
       "      <td>True</td>\n",
       "      <td>K562</td>\n",
       "      <td>Ulirsch2016</td>\n",
       "      <td>True</td>\n",
       "      <td>NaN</td>\n",
       "      <td>NaN</td>\n",
       "      <td>NaN</td>\n",
       "      <td>NaN</td>\n",
       "      <td>FlowFISH_K562|LRRC47|chr1:3691278-3691778:*</td>\n",
       "      <td>2</td>\n",
       "      <td>3774714</td>\n",
       "      <td>3775214</td>\n",
       "      <td>LRRC47</td>\n",
       "      <td>ENSG00000130764</td>\n",
       "    </tr>\n",
       "    <tr>\n",
       "      <th>2</th>\n",
       "      <td>Gasperini2019</td>\n",
       "      <td>chr1</td>\n",
       "      <td>3803570</td>\n",
       "      <td>3805848</td>\n",
       "      <td>LRRC47|chr1:3720134-3722412:.</td>\n",
       "      <td>-0.001471</td>\n",
       "      <td>chr1</td>\n",
       "      <td>3796503.0</td>\n",
       "      <td>3796504.0</td>\n",
       "      <td>LRRC47</td>\n",
       "      <td>False</td>\n",
       "      <td>0.999918</td>\n",
       "      <td>1.000000</td>\n",
       "      <td>True</td>\n",
       "      <td>K562</td>\n",
       "      <td>Gasperini et al., 2019</td>\n",
       "      <td>False</td>\n",
       "      <td>0.40</td>\n",
       "      <td>0.80</td>\n",
       "      <td>0.85</td>\n",
       "      <td>1.0</td>\n",
       "      <td>Gasperini2019|LRRC47|chr1:3720134-3722412:.</td>\n",
       "      <td>3</td>\n",
       "      <td>3803570</td>\n",
       "      <td>3805848</td>\n",
       "      <td>LRRC47</td>\n",
       "      <td>ENSG00000130764</td>\n",
       "    </tr>\n",
       "    <tr>\n",
       "      <th>3</th>\n",
       "      <td>FlowFISH_K562</td>\n",
       "      <td>chr1</td>\n",
       "      <td>3774714</td>\n",
       "      <td>3775214</td>\n",
       "      <td>SMIM1|chr1:3691278-3691778:*</td>\n",
       "      <td>-0.472019</td>\n",
       "      <td>chr1</td>\n",
       "      <td>3772761.0</td>\n",
       "      <td>3772762.0</td>\n",
       "      <td>SMIM1</td>\n",
       "      <td>True</td>\n",
       "      <td>0.000642</td>\n",
       "      <td>0.639332</td>\n",
       "      <td>True</td>\n",
       "      <td>K562</td>\n",
       "      <td>Ulirsch2016</td>\n",
       "      <td>True</td>\n",
       "      <td>NaN</td>\n",
       "      <td>NaN</td>\n",
       "      <td>NaN</td>\n",
       "      <td>NaN</td>\n",
       "      <td>FlowFISH_K562|SMIM1|chr1:3691278-3691778:*</td>\n",
       "      <td>4</td>\n",
       "      <td>3774714</td>\n",
       "      <td>3775214</td>\n",
       "      <td>SMIM1</td>\n",
       "      <td>ENSG00000235169</td>\n",
       "    </tr>\n",
       "    <tr>\n",
       "      <th>4</th>\n",
       "      <td>Gasperini2019</td>\n",
       "      <td>chr1</td>\n",
       "      <td>3803570</td>\n",
       "      <td>3805848</td>\n",
       "      <td>SMIM1|chr1:3720134-3722412:.</td>\n",
       "      <td>0.025677</td>\n",
       "      <td>chr1</td>\n",
       "      <td>3772788.0</td>\n",
       "      <td>3772789.0</td>\n",
       "      <td>SMIM1</td>\n",
       "      <td>False</td>\n",
       "      <td>0.994160</td>\n",
       "      <td>1.000000</td>\n",
       "      <td>True</td>\n",
       "      <td>K562</td>\n",
       "      <td>Gasperini et al., 2019</td>\n",
       "      <td>False</td>\n",
       "      <td>0.80</td>\n",
       "      <td>0.85</td>\n",
       "      <td>1.00</td>\n",
       "      <td>1.0</td>\n",
       "      <td>Gasperini2019|SMIM1|chr1:3720134-3722412:.</td>\n",
       "      <td>5</td>\n",
       "      <td>3803570</td>\n",
       "      <td>3805848</td>\n",
       "      <td>SMIM1</td>\n",
       "      <td>ENSG00000235169</td>\n",
       "    </tr>\n",
       "    <tr>\n",
       "      <th>...</th>\n",
       "      <td>...</td>\n",
       "      <td>...</td>\n",
       "      <td>...</td>\n",
       "      <td>...</td>\n",
       "      <td>...</td>\n",
       "      <td>...</td>\n",
       "      <td>...</td>\n",
       "      <td>...</td>\n",
       "      <td>...</td>\n",
       "      <td>...</td>\n",
       "      <td>...</td>\n",
       "      <td>...</td>\n",
       "      <td>...</td>\n",
       "      <td>...</td>\n",
       "      <td>...</td>\n",
       "      <td>...</td>\n",
       "      <td>...</td>\n",
       "      <td>...</td>\n",
       "      <td>...</td>\n",
       "      <td>...</td>\n",
       "      <td>...</td>\n",
       "      <td>...</td>\n",
       "      <td>...</td>\n",
       "      <td>...</td>\n",
       "      <td>...</td>\n",
       "      <td>...</td>\n",
       "      <td>...</td>\n",
       "    </tr>\n",
       "    <tr>\n",
       "      <th>10407</th>\n",
       "      <td>Gasperini2019</td>\n",
       "      <td>chrX</td>\n",
       "      <td>155434755</td>\n",
       "      <td>155435408</td>\n",
       "      <td>LAGE3|chrX:154664416-154665069:.</td>\n",
       "      <td>0.012127</td>\n",
       "      <td>chrX</td>\n",
       "      <td>154479256.0</td>\n",
       "      <td>154479257.0</td>\n",
       "      <td>LAGE3</td>\n",
       "      <td>False</td>\n",
       "      <td>0.999918</td>\n",
       "      <td>1.000000</td>\n",
       "      <td>True</td>\n",
       "      <td>K562</td>\n",
       "      <td>Gasperini et al., 2019</td>\n",
       "      <td>False</td>\n",
       "      <td>0.75</td>\n",
       "      <td>0.85</td>\n",
       "      <td>0.95</td>\n",
       "      <td>1.0</td>\n",
       "      <td>Gasperini2019|LAGE3|chrX:154664416-154665069:.</td>\n",
       "      <td>10408</td>\n",
       "      <td>155434755</td>\n",
       "      <td>155435408</td>\n",
       "      <td>LAGE3</td>\n",
       "      <td>ENSG00000196976</td>\n",
       "    </tr>\n",
       "    <tr>\n",
       "      <th>10408</th>\n",
       "      <td>Gasperini2019</td>\n",
       "      <td>chrX</td>\n",
       "      <td>154527069</td>\n",
       "      <td>154527569</td>\n",
       "      <td>UBL4A|chrX:153755283-153755783:.</td>\n",
       "      <td>-0.006651</td>\n",
       "      <td>chrX</td>\n",
       "      <td>154486669.0</td>\n",
       "      <td>154486670.0</td>\n",
       "      <td>UBL4A</td>\n",
       "      <td>False</td>\n",
       "      <td>0.999918</td>\n",
       "      <td>0.950000</td>\n",
       "      <td>True</td>\n",
       "      <td>K562</td>\n",
       "      <td>Gasperini et al., 2019</td>\n",
       "      <td>False</td>\n",
       "      <td>0.50</td>\n",
       "      <td>0.80</td>\n",
       "      <td>0.85</td>\n",
       "      <td>1.0</td>\n",
       "      <td>Gasperini2019|UBL4A|chrX:153755283-153755783:.</td>\n",
       "      <td>10409</td>\n",
       "      <td>154527069</td>\n",
       "      <td>154527569</td>\n",
       "      <td>UBL4A</td>\n",
       "      <td>ENSG00000102178</td>\n",
       "    </tr>\n",
       "    <tr>\n",
       "      <th>10409</th>\n",
       "      <td>Gasperini2019</td>\n",
       "      <td>chrX</td>\n",
       "      <td>155434755</td>\n",
       "      <td>155435408</td>\n",
       "      <td>UBL4A|chrX:154664416-154665069:.</td>\n",
       "      <td>0.003708</td>\n",
       "      <td>chrX</td>\n",
       "      <td>154486669.0</td>\n",
       "      <td>154486670.0</td>\n",
       "      <td>UBL4A</td>\n",
       "      <td>False</td>\n",
       "      <td>0.999918</td>\n",
       "      <td>0.950000</td>\n",
       "      <td>True</td>\n",
       "      <td>K562</td>\n",
       "      <td>Gasperini et al., 2019</td>\n",
       "      <td>False</td>\n",
       "      <td>0.70</td>\n",
       "      <td>0.85</td>\n",
       "      <td>0.95</td>\n",
       "      <td>1.0</td>\n",
       "      <td>Gasperini2019|UBL4A|chrX:154664416-154665069:.</td>\n",
       "      <td>10410</td>\n",
       "      <td>155434755</td>\n",
       "      <td>155435408</td>\n",
       "      <td>UBL4A</td>\n",
       "      <td>ENSG00000102178</td>\n",
       "    </tr>\n",
       "    <tr>\n",
       "      <th>10410</th>\n",
       "      <td>Gasperini2019</td>\n",
       "      <td>chrX</td>\n",
       "      <td>155434755</td>\n",
       "      <td>155435408</td>\n",
       "      <td>DKC1|chrX:154664416-154665069:.</td>\n",
       "      <td>0.009955</td>\n",
       "      <td>chrX</td>\n",
       "      <td>154762742.0</td>\n",
       "      <td>154762743.0</td>\n",
       "      <td>DKC1</td>\n",
       "      <td>False</td>\n",
       "      <td>0.999918</td>\n",
       "      <td>0.950000</td>\n",
       "      <td>True</td>\n",
       "      <td>K562</td>\n",
       "      <td>Gasperini et al., 2019</td>\n",
       "      <td>False</td>\n",
       "      <td>0.45</td>\n",
       "      <td>0.80</td>\n",
       "      <td>0.95</td>\n",
       "      <td>1.0</td>\n",
       "      <td>Gasperini2019|DKC1|chrX:154664416-154665069:.</td>\n",
       "      <td>10411</td>\n",
       "      <td>155434755</td>\n",
       "      <td>155435408</td>\n",
       "      <td>DKC1</td>\n",
       "      <td>ENSG00000130826</td>\n",
       "    </tr>\n",
       "    <tr>\n",
       "      <th>10411</th>\n",
       "      <td>Gasperini2019</td>\n",
       "      <td>chrX</td>\n",
       "      <td>155434755</td>\n",
       "      <td>155435408</td>\n",
       "      <td>VAMP7|chrX:154664416-154665069:.</td>\n",
       "      <td>-0.010336</td>\n",
       "      <td>chrX</td>\n",
       "      <td>155881293.0</td>\n",
       "      <td>155881294.0</td>\n",
       "      <td>VAMP7</td>\n",
       "      <td>False</td>\n",
       "      <td>0.999918</td>\n",
       "      <td>0.950000</td>\n",
       "      <td>True</td>\n",
       "      <td>K562</td>\n",
       "      <td>Gasperini et al., 2019</td>\n",
       "      <td>False</td>\n",
       "      <td>0.40</td>\n",
       "      <td>0.85</td>\n",
       "      <td>0.95</td>\n",
       "      <td>1.0</td>\n",
       "      <td>Gasperini2019|VAMP7|chrX:154664416-154665069:.</td>\n",
       "      <td>10412</td>\n",
       "      <td>155434755</td>\n",
       "      <td>155435408</td>\n",
       "      <td>VAMP7</td>\n",
       "      <td>ENSG00000124333</td>\n",
       "    </tr>\n",
       "  </tbody>\n",
       "</table>\n",
       "<p>10412 rows × 27 columns</p>\n",
       "</div>"
      ],
      "text/plain": [
       "             dataset chrom  chromStart   chromEnd  \\\n",
       "0      FlowFISH_K562  chr1     3774714    3775214   \n",
       "1      FlowFISH_K562  chr1     3774714    3775214   \n",
       "2      Gasperini2019  chr1     3803570    3805848   \n",
       "3      FlowFISH_K562  chr1     3774714    3775214   \n",
       "4      Gasperini2019  chr1     3803570    3805848   \n",
       "...              ...   ...         ...        ...   \n",
       "10407  Gasperini2019  chrX   155434755  155435408   \n",
       "10408  Gasperini2019  chrX   154527069  154527569   \n",
       "10409  Gasperini2019  chrX   155434755  155435408   \n",
       "10410  Gasperini2019  chrX   155434755  155435408   \n",
       "10411  Gasperini2019  chrX   155434755  155435408   \n",
       "\n",
       "                                   name  EffectSize chrTSS     startTSS  \\\n",
       "0         CEP104|chr1:3691278-3691778:*   -0.293432   chr1    3857213.0   \n",
       "1         LRRC47|chr1:3691278-3691778:*   -0.331178   chr1    3796503.0   \n",
       "2         LRRC47|chr1:3720134-3722412:.   -0.001471   chr1    3796503.0   \n",
       "3          SMIM1|chr1:3691278-3691778:*   -0.472019   chr1    3772761.0   \n",
       "4          SMIM1|chr1:3720134-3722412:.    0.025677   chr1    3772788.0   \n",
       "...                                 ...         ...    ...          ...   \n",
       "10407  LAGE3|chrX:154664416-154665069:.    0.012127   chrX  154479256.0   \n",
       "10408  UBL4A|chrX:153755283-153755783:.   -0.006651   chrX  154486669.0   \n",
       "10409  UBL4A|chrX:154664416-154665069:.    0.003708   chrX  154486669.0   \n",
       "10410   DKC1|chrX:154664416-154665069:.    0.009955   chrX  154762742.0   \n",
       "10411  VAMP7|chrX:154664416-154665069:.   -0.010336   chrX  155881293.0   \n",
       "\n",
       "            endTSS measuredGeneSymbol  Significant  pValueAdjusted  \\\n",
       "0        3857214.0             CEP104         True        0.004024   \n",
       "1        3796504.0             LRRC47         True        0.007771   \n",
       "2        3796504.0             LRRC47        False        0.999918   \n",
       "3        3772762.0              SMIM1         True        0.000642   \n",
       "4        3772789.0              SMIM1        False        0.994160   \n",
       "...            ...                ...          ...             ...   \n",
       "10407  154479257.0              LAGE3        False        0.999918   \n",
       "10408  154486670.0              UBL4A        False        0.999918   \n",
       "10409  154486670.0              UBL4A        False        0.999918   \n",
       "10410  154762743.0               DKC1        False        0.999918   \n",
       "10411  155881294.0              VAMP7        False        0.999918   \n",
       "\n",
       "       PowerAtEffectSize25  ValidConnection CellType               Reference  \\\n",
       "0                 0.825094             True     K562             Ulirsch2016   \n",
       "1                 0.608994             True     K562             Ulirsch2016   \n",
       "2                 1.000000             True     K562  Gasperini et al., 2019   \n",
       "3                 0.639332             True     K562             Ulirsch2016   \n",
       "4                 1.000000             True     K562  Gasperini et al., 2019   \n",
       "...                    ...              ...      ...                     ...   \n",
       "10407             1.000000             True     K562  Gasperini et al., 2019   \n",
       "10408             0.950000             True     K562  Gasperini et al., 2019   \n",
       "10409             0.950000             True     K562  Gasperini et al., 2019   \n",
       "10410             0.950000             True     K562  Gasperini et al., 2019   \n",
       "10411             0.950000             True     K562  Gasperini et al., 2019   \n",
       "\n",
       "      Regulated  PowerAtEffectSize10  PowerAtEffectSize15  \\\n",
       "0          True                  NaN                  NaN   \n",
       "1          True                  NaN                  NaN   \n",
       "2         False                 0.40                 0.80   \n",
       "3          True                  NaN                  NaN   \n",
       "4         False                 0.80                 0.85   \n",
       "...         ...                  ...                  ...   \n",
       "10407     False                 0.75                 0.85   \n",
       "10408     False                 0.50                 0.80   \n",
       "10409     False                 0.70                 0.85   \n",
       "10410     False                 0.45                 0.80   \n",
       "10411     False                 0.40                 0.85   \n",
       "\n",
       "       PowerAtEffectSize20  PowerAtEffectSize50  \\\n",
       "0                      NaN                  NaN   \n",
       "1                      NaN                  NaN   \n",
       "2                     0.85                  1.0   \n",
       "3                      NaN                  NaN   \n",
       "4                     1.00                  1.0   \n",
       "...                    ...                  ...   \n",
       "10407                 0.95                  1.0   \n",
       "10408                 0.85                  1.0   \n",
       "10409                 0.95                  1.0   \n",
       "10410                 0.95                  1.0   \n",
       "10411                 0.95                  1.0   \n",
       "\n",
       "                                             pair_uid  merged_uid  \\\n",
       "0         FlowFISH_K562|CEP104|chr1:3691278-3691778:*           1   \n",
       "1         FlowFISH_K562|LRRC47|chr1:3691278-3691778:*           2   \n",
       "2         Gasperini2019|LRRC47|chr1:3720134-3722412:.           3   \n",
       "3          FlowFISH_K562|SMIM1|chr1:3691278-3691778:*           4   \n",
       "4          Gasperini2019|SMIM1|chr1:3720134-3722412:.           5   \n",
       "...                                               ...         ...   \n",
       "10407  Gasperini2019|LAGE3|chrX:154664416-154665069:.       10408   \n",
       "10408  Gasperini2019|UBL4A|chrX:153755283-153755783:.       10409   \n",
       "10409  Gasperini2019|UBL4A|chrX:154664416-154665069:.       10410   \n",
       "10410   Gasperini2019|DKC1|chrX:154664416-154665069:.       10411   \n",
       "10411  Gasperini2019|VAMP7|chrX:154664416-154665069:.       10412   \n",
       "\n",
       "       merged_start  merged_end  Symbol             gene  \n",
       "0           3774714     3775214  CEP104  ENSG00000116198  \n",
       "1           3774714     3775214  LRRC47  ENSG00000130764  \n",
       "2           3803570     3805848  LRRC47  ENSG00000130764  \n",
       "3           3774714     3775214   SMIM1  ENSG00000235169  \n",
       "4           3803570     3805848   SMIM1  ENSG00000235169  \n",
       "...             ...         ...     ...              ...  \n",
       "10407     155434755   155435408   LAGE3  ENSG00000196976  \n",
       "10408     154527069   154527569   UBL4A  ENSG00000102178  \n",
       "10409     155434755   155435408   UBL4A  ENSG00000102178  \n",
       "10410     155434755   155435408    DKC1  ENSG00000130826  \n",
       "10411     155434755   155435408   VAMP7  ENSG00000124333  \n",
       "\n",
       "[10412 rows x 27 columns]"
      ]
     },
     "execution_count": 27,
     "metadata": {},
     "output_type": "execute_result"
    }
   ],
   "source": [
    "def helper(l):\n",
    "    for elem in l:\n",
    "        if elem.startswith(\"Ensembl\"):\n",
    "            return elem.split(\":\")[1]\n",
    "    return \"\"\n",
    "\n",
    "gene_info = pd.read_csv(\"../perez_eqtl/Homo_sapiens.gene_info\", sep=\"\\t\")\n",
    "gene_info[\"refs\"] = gene_info[\"dbXrefs\"].str.split(\"|\")\n",
    "gene_info[\"gene\"] = gene_info[\"refs\"].apply(helper)\n",
    "gene_info1 = gene_info[gene_info[\"gene\"]!= \"\"][[\"Symbol\", \"gene\"]]\n",
    "df = crispr.merge(gene_info1, how=\"left\", left_on=\"measuredGeneSymbol\", right_on=\"Symbol\")#.drop(columns=[\"Symbol\", \"STD_FE\"])\n",
    "df[\"gene\"] = df[\"gene\"].fillna(df[\"measuredGeneSymbol\"])\n",
    "df[\"chromStart\"] = df[\"chromStart\"].astype(int)\n",
    "df[\"chromEnd\"] = df[\"chromEnd\"].astype(int)\n",
    "df"
   ]
  },
  {
   "cell_type": "code",
   "execution_count": 28,
   "id": "4b75fff3-6aa1-4fa7-96f0-e1a2020704af",
   "metadata": {
    "execution": {
     "iopub.execute_input": "2024-10-25T18:59:25.917546Z",
     "iopub.status.busy": "2024-10-25T18:59:25.914770Z",
     "iopub.status.idle": "2024-10-25T18:59:29.520047Z",
     "shell.execute_reply": "2024-10-25T18:59:29.519604Z",
     "shell.execute_reply.started": "2024-10-25T18:59:25.917507Z"
    }
   },
   "outputs": [],
   "source": [
    "df = df.merge(\n",
    "    pd.concat([\n",
    "        multiome[[\"gene\", \"pli\"]].drop_duplicates(),\n",
    "        eqtl[[\"gene\", \"pli\"]].drop_duplicates(),\n",
    "    ]), \n",
    "    how=\"left\", on=\"gene\"\n",
    ").merge(\n",
    "    pd.concat([\n",
    "        multiome[[\"gene\", \"cts\"]].drop_duplicates(),\n",
    "        eqtl[[\"gene\", \"cts\"]].drop_duplicates(),\n",
    "    ]), \n",
    "    how=\"left\", on=\"gene\"\n",
    ").fillna(0)"
   ]
  },
  {
   "cell_type": "code",
   "execution_count": 29,
   "id": "b4dec591-83a2-484f-b558-753143bf6807",
   "metadata": {
    "execution": {
     "iopub.execute_input": "2024-10-25T19:01:07.401567Z",
     "iopub.status.busy": "2024-10-25T19:01:07.400897Z",
     "iopub.status.idle": "2024-10-25T19:01:07.435853Z",
     "shell.execute_reply": "2024-10-25T19:01:07.432167Z",
     "shell.execute_reply.started": "2024-10-25T19:01:07.401514Z"
    }
   },
   "outputs": [
    {
     "name": "stdout",
     "output_type": "stream",
     "text": [
      "Significant  logfc10\n",
      "False        True       20924\n",
      "             False       8434\n",
      "True         True        1080\n",
      "             False        599\n",
      "Name: count, dtype: int64\n",
      "Significant  pli0.9\n",
      "False        False     23023\n",
      "             True       6335\n",
      "True         False      1315\n",
      "             True        364\n",
      "Name: count, dtype: int64\n"
     ]
    }
   ],
   "source": [
    "df1 = df.copy()\n",
    "df1[\"logfc10\"] = df1[\"cts\"] > 10\n",
    "df1[\"pli0.9\"] = df1[\"pli\"] > 0.9\n",
    "print(df1.value_counts([\"Significant\", \"logfc10\"]))\n",
    "print(df1.value_counts([\"Significant\", \"pli0.9\"]))"
   ]
  },
  {
   "cell_type": "code",
   "execution_count": 30,
   "id": "41954f00-877c-4539-866c-f3d2ed4e65ef",
   "metadata": {
    "execution": {
     "iopub.execute_input": "2024-10-25T19:02:37.789709Z",
     "iopub.status.busy": "2024-10-25T19:02:37.789053Z",
     "iopub.status.idle": "2024-10-25T19:02:37.801201Z",
     "shell.execute_reply": "2024-10-25T19:02:37.800520Z",
     "shell.execute_reply.started": "2024-10-25T19:02:37.789655Z"
    }
   },
   "outputs": [
    {
     "data": {
      "text/plain": [
       "(logfc10\n",
       " False     599\n",
       " True     1080\n",
       " Name: Significant, dtype: int64,\n",
       " pli0.9\n",
       " False    1315\n",
       " True      364\n",
       " Name: Significant, dtype: int64)"
      ]
     },
     "execution_count": 30,
     "metadata": {},
     "output_type": "execute_result"
    }
   ],
   "source": [
    "df1.groupby([\"logfc10\"])[\"Significant\"].sum(), df1.groupby([\"pli0.9\"])[\"Significant\"].sum()"
   ]
  },
  {
   "cell_type": "code",
   "execution_count": 25,
   "id": "fe1fc0a2-36d4-4e60-9f29-a2572c5b7579",
   "metadata": {
    "execution": {
     "iopub.execute_input": "2024-10-25T18:58:46.103333Z",
     "iopub.status.busy": "2024-10-25T18:58:46.102709Z",
     "iopub.status.idle": "2024-10-25T18:58:47.972829Z",
     "shell.execute_reply": "2024-10-25T18:58:47.972415Z",
     "shell.execute_reply.started": "2024-10-25T18:58:46.103279Z"
    }
   },
   "outputs": [
    {
     "data": {
      "text/html": [
       "<div>\n",
       "<style scoped>\n",
       "    .dataframe tbody tr th:only-of-type {\n",
       "        vertical-align: middle;\n",
       "    }\n",
       "\n",
       "    .dataframe tbody tr th {\n",
       "        vertical-align: top;\n",
       "    }\n",
       "\n",
       "    .dataframe thead th {\n",
       "        text-align: right;\n",
       "    }\n",
       "</style>\n",
       "<table border=\"1\" class=\"dataframe\">\n",
       "  <thead>\n",
       "    <tr style=\"text-align: right;\">\n",
       "      <th></th>\n",
       "      <th>gene</th>\n",
       "      <th>cts</th>\n",
       "    </tr>\n",
       "  </thead>\n",
       "  <tbody>\n",
       "    <tr>\n",
       "      <th>13610</th>\n",
       "      <td>ENSG00000000003</td>\n",
       "      <td>13.625408</td>\n",
       "    </tr>\n",
       "    <tr>\n",
       "      <th>78053</th>\n",
       "      <td>ENSG00000000005</td>\n",
       "      <td>10.010907</td>\n",
       "    </tr>\n",
       "    <tr>\n",
       "      <th>92251</th>\n",
       "      <td>ENSG00000000457</td>\n",
       "      <td>4.871694</td>\n",
       "    </tr>\n",
       "    <tr>\n",
       "      <th>89358</th>\n",
       "      <td>ENSG00000000460</td>\n",
       "      <td>5.087788</td>\n",
       "    </tr>\n",
       "    <tr>\n",
       "      <th>67698</th>\n",
       "      <td>ENSG00000000938</td>\n",
       "      <td>26.217619</td>\n",
       "    </tr>\n",
       "    <tr>\n",
       "      <th>...</th>\n",
       "      <td>...</td>\n",
       "      <td>...</td>\n",
       "    </tr>\n",
       "    <tr>\n",
       "      <th>121532</th>\n",
       "      <td>ENSG00000272325</td>\n",
       "      <td>2.853021</td>\n",
       "    </tr>\n",
       "    <tr>\n",
       "      <th>114800</th>\n",
       "      <td>ENSG00000272514</td>\n",
       "      <td>6.268838</td>\n",
       "    </tr>\n",
       "    <tr>\n",
       "      <th>36204</th>\n",
       "      <td>ENSG00000272573</td>\n",
       "      <td>5.081792</td>\n",
       "    </tr>\n",
       "    <tr>\n",
       "      <th>22042</th>\n",
       "      <td>ENSG00000273079</td>\n",
       "      <td>7.076047</td>\n",
       "    </tr>\n",
       "    <tr>\n",
       "      <th>569075</th>\n",
       "      <td>ENSG00000273274</td>\n",
       "      <td>7.112119</td>\n",
       "    </tr>\n",
       "  </tbody>\n",
       "</table>\n",
       "<p>12975 rows × 2 columns</p>\n",
       "</div>"
      ],
      "text/plain": [
       "                   gene        cts\n",
       "13610   ENSG00000000003  13.625408\n",
       "78053   ENSG00000000005  10.010907\n",
       "92251   ENSG00000000457   4.871694\n",
       "89358   ENSG00000000460   5.087788\n",
       "67698   ENSG00000000938  26.217619\n",
       "...                 ...        ...\n",
       "121532  ENSG00000272325   2.853021\n",
       "114800  ENSG00000272514   6.268838\n",
       "36204   ENSG00000272573   5.081792\n",
       "22042   ENSG00000273079   7.076047\n",
       "569075  ENSG00000273274   7.112119\n",
       "\n",
       "[12975 rows x 2 columns]"
      ]
     },
     "execution_count": 25,
     "metadata": {},
     "output_type": "execute_result"
    }
   ],
   "source": [
    "eqtl[[\"gene\", \"cts\"]].drop_duplicates().sort_values(by=\"gene\")"
   ]
  },
  {
   "cell_type": "code",
   "execution_count": 26,
   "id": "27bde76d-1da2-4cc5-ae11-6288f8ad4239",
   "metadata": {
    "execution": {
     "iopub.execute_input": "2024-10-25T09:15:24.681943Z",
     "iopub.status.busy": "2024-10-25T09:15:24.681295Z",
     "iopub.status.idle": "2024-10-25T09:26:30.181191Z",
     "shell.execute_reply": "2024-10-25T09:26:30.180724Z",
     "shell.execute_reply.started": "2024-10-25T09:15:24.681888Z"
    }
   },
   "outputs": [
    {
     "name": "stdout",
     "output_type": "stream",
     "text": [
      "2266\n"
     ]
    },
    {
     "data": {
      "application/vnd.jupyter.widget-view+json": {
       "model_id": "0550d4f985d74624af704e922d62f7a4",
       "version_major": 2,
       "version_minor": 0
      },
      "text/plain": [
       "0it [00:00, ?it/s]"
      ]
     },
     "metadata": {},
     "output_type": "display_data"
    },
    {
     "name": "stdout",
     "output_type": "stream",
     "text": [
      "(2003, 17)\n"
     ]
    },
    {
     "data": {
      "text/html": [
       "<div>\n",
       "<style scoped>\n",
       "    .dataframe tbody tr th:only-of-type {\n",
       "        vertical-align: middle;\n",
       "    }\n",
       "\n",
       "    .dataframe tbody tr th {\n",
       "        vertical-align: top;\n",
       "    }\n",
       "\n",
       "    .dataframe thead th {\n",
       "        text-align: right;\n",
       "    }\n",
       "</style>\n",
       "<table border=\"1\" class=\"dataframe\">\n",
       "  <thead>\n",
       "    <tr style=\"text-align: right;\">\n",
       "      <th></th>\n",
       "      <th>region</th>\n",
       "      <th>chr</th>\n",
       "      <th>start</th>\n",
       "      <th>gene</th>\n",
       "      <th>pli</th>\n",
       "      <th>cts</th>\n",
       "      <th>dist</th>\n",
       "      <th>SCENT</th>\n",
       "      <th>multiome</th>\n",
       "      <th>multiome_finemap</th>\n",
       "      <th>gwas</th>\n",
       "      <th>pops_priority</th>\n",
       "      <th>eqtl</th>\n",
       "      <th>credible_set</th>\n",
       "      <th>chromStart</th>\n",
       "      <th>chromEnd</th>\n",
       "      <th>Significant</th>\n",
       "    </tr>\n",
       "  </thead>\n",
       "  <tbody>\n",
       "    <tr>\n",
       "      <th>2137267</th>\n",
       "      <td>chr19:555832-555833</td>\n",
       "      <td>chr19</td>\n",
       "      <td>555832.0</td>\n",
       "      <td>ENSG00000172270</td>\n",
       "      <td>0.0</td>\n",
       "      <td>18.768976</td>\n",
       "      <td>24814.0</td>\n",
       "      <td>0.474816</td>\n",
       "      <td>1</td>\n",
       "      <td>0</td>\n",
       "      <td>0</td>\n",
       "      <td>0</td>\n",
       "      <td>0</td>\n",
       "      <td>0</td>\n",
       "      <td>555793</td>\n",
       "      <td>556394</td>\n",
       "      <td>True</td>\n",
       "    </tr>\n",
       "    <tr>\n",
       "      <th>2137293</th>\n",
       "      <td>chr19:555838-555839</td>\n",
       "      <td>chr19</td>\n",
       "      <td>555838.0</td>\n",
       "      <td>ENSG00000172270</td>\n",
       "      <td>0.0</td>\n",
       "      <td>18.768976</td>\n",
       "      <td>24808.0</td>\n",
       "      <td>0.474816</td>\n",
       "      <td>1</td>\n",
       "      <td>0</td>\n",
       "      <td>0</td>\n",
       "      <td>0</td>\n",
       "      <td>0</td>\n",
       "      <td>0</td>\n",
       "      <td>555793</td>\n",
       "      <td>556394</td>\n",
       "      <td>True</td>\n",
       "    </tr>\n",
       "    <tr>\n",
       "      <th>2137456</th>\n",
       "      <td>chr19:556111-556112</td>\n",
       "      <td>chr19</td>\n",
       "      <td>556111.0</td>\n",
       "      <td>ENSG00000172270</td>\n",
       "      <td>0.0</td>\n",
       "      <td>18.768976</td>\n",
       "      <td>24535.0</td>\n",
       "      <td>0.474816</td>\n",
       "      <td>1</td>\n",
       "      <td>0</td>\n",
       "      <td>0</td>\n",
       "      <td>0</td>\n",
       "      <td>0</td>\n",
       "      <td>0</td>\n",
       "      <td>555793</td>\n",
       "      <td>556394</td>\n",
       "      <td>True</td>\n",
       "    </tr>\n",
       "    <tr>\n",
       "      <th>2137759</th>\n",
       "      <td>chr19:556307-556308</td>\n",
       "      <td>chr19</td>\n",
       "      <td>556307.0</td>\n",
       "      <td>ENSG00000172270</td>\n",
       "      <td>0.0</td>\n",
       "      <td>18.768976</td>\n",
       "      <td>24339.0</td>\n",
       "      <td>0.474816</td>\n",
       "      <td>1</td>\n",
       "      <td>0</td>\n",
       "      <td>0</td>\n",
       "      <td>0</td>\n",
       "      <td>0</td>\n",
       "      <td>0</td>\n",
       "      <td>555793</td>\n",
       "      <td>556394</td>\n",
       "      <td>True</td>\n",
       "    </tr>\n",
       "    <tr>\n",
       "      <th>2198016</th>\n",
       "      <td>chr19:982697-982698</td>\n",
       "      <td>chr19</td>\n",
       "      <td>982697.0</td>\n",
       "      <td>ENSG00000172270</td>\n",
       "      <td>0.0</td>\n",
       "      <td>18.768976</td>\n",
       "      <td>-402051.0</td>\n",
       "      <td>0.762557</td>\n",
       "      <td>1</td>\n",
       "      <td>0</td>\n",
       "      <td>0</td>\n",
       "      <td>0</td>\n",
       "      <td>0</td>\n",
       "      <td>0</td>\n",
       "      <td>982611</td>\n",
       "      <td>983111</td>\n",
       "      <td>False</td>\n",
       "    </tr>\n",
       "  </tbody>\n",
       "</table>\n",
       "</div>"
      ],
      "text/plain": [
       "                      region    chr     start             gene  pli  \\\n",
       "2137267  chr19:555832-555833  chr19  555832.0  ENSG00000172270  0.0   \n",
       "2137293  chr19:555838-555839  chr19  555838.0  ENSG00000172270  0.0   \n",
       "2137456  chr19:556111-556112  chr19  556111.0  ENSG00000172270  0.0   \n",
       "2137759  chr19:556307-556308  chr19  556307.0  ENSG00000172270  0.0   \n",
       "2198016  chr19:982697-982698  chr19  982697.0  ENSG00000172270  0.0   \n",
       "\n",
       "               cts      dist     SCENT  multiome  multiome_finemap  gwas  \\\n",
       "2137267  18.768976   24814.0  0.474816         1                 0     0   \n",
       "2137293  18.768976   24808.0  0.474816         1                 0     0   \n",
       "2137456  18.768976   24535.0  0.474816         1                 0     0   \n",
       "2137759  18.768976   24339.0  0.474816         1                 0     0   \n",
       "2198016  18.768976 -402051.0  0.762557         1                 0     0   \n",
       "\n",
       "         pops_priority  eqtl  credible_set  chromStart  chromEnd  Significant  \n",
       "2137267              0     0             0      555793    556394         True  \n",
       "2137293              0     0             0      555793    556394         True  \n",
       "2137456              0     0             0      555793    556394         True  \n",
       "2137759              0     0             0      555793    556394         True  \n",
       "2198016              0     0             0      982611    983111        False  "
      ]
     },
     "execution_count": 26,
     "metadata": {},
     "output_type": "execute_result"
    }
   ],
   "source": [
    "dfs = []\n",
    "print(len(df[df[\"chrom\"]==\"chr19\"]))\n",
    "for _, row in tqdm(df[df[\"chrom\"]==\"chr19\"].iterrows()):\n",
    "    subdf = multiome[\n",
    "        (multiome[\"chr\"] == \"chr19\") & \n",
    "        (multiome[\"gene\"] == row[\"gene\"]) & \n",
    "        (multiome[\"start\"] >= row[\"chromStart\"]) & \n",
    "        (multiome[\"start\"] <= row[\"chromEnd\"])\n",
    "    ].copy()\n",
    "    if len(subdf) > 0: \n",
    "        subdf[\"chromStart\"] = row[\"chromStart\"]\n",
    "        subdf[\"chromEnd\"] = row[\"chromEnd\"]\n",
    "        subdf[\"Significant\"] = row[\"Significant\"]\n",
    "        dfs.append(subdf)\n",
    "    # print(row, row[\"chrom\"])\n",
    "    # break\n",
    "crispr_multiome = pd.concat(dfs)\n",
    "print(crispr_multiome.shape)\n",
    "crispr_multiome.head()"
   ]
  },
  {
   "cell_type": "code",
   "execution_count": null,
   "id": "b51e1511-f771-4028-9611-b3e317fc44f4",
   "metadata": {},
   "outputs": [],
   "source": []
  },
  {
   "cell_type": "code",
   "execution_count": 27,
   "id": "08bd6e8b-4745-4dcb-a7a5-e2c7e7677c18",
   "metadata": {
    "execution": {
     "iopub.execute_input": "2024-10-25T09:30:40.194918Z",
     "iopub.status.busy": "2024-10-25T09:30:40.194209Z",
     "iopub.status.idle": "2024-10-25T10:40:58.518939Z",
     "shell.execute_reply": "2024-10-25T10:40:58.518464Z",
     "shell.execute_reply.started": "2024-10-25T09:30:40.194862Z"
    },
    "scrolled": true
   },
   "outputs": [
    {
     "name": "stdout",
     "output_type": "stream",
     "text": [
      "2266\n"
     ]
    },
    {
     "data": {
      "application/vnd.jupyter.widget-view+json": {
       "model_id": "bff5c91ef1304064b232a6f753231613",
       "version_major": 2,
       "version_minor": 0
      },
      "text/plain": [
       "0it [00:00, ?it/s]"
      ]
     },
     "metadata": {},
     "output_type": "display_data"
    },
    {
     "name": "stdout",
     "output_type": "stream",
     "text": [
      "(761, 19)\n"
     ]
    },
    {
     "data": {
      "text/html": [
       "<div>\n",
       "<style scoped>\n",
       "    .dataframe tbody tr th:only-of-type {\n",
       "        vertical-align: middle;\n",
       "    }\n",
       "\n",
       "    .dataframe tbody tr th {\n",
       "        vertical-align: top;\n",
       "    }\n",
       "\n",
       "    .dataframe thead th {\n",
       "        text-align: right;\n",
       "    }\n",
       "</style>\n",
       "<table border=\"1\" class=\"dataframe\">\n",
       "  <thead>\n",
       "    <tr style=\"text-align: right;\">\n",
       "      <th></th>\n",
       "      <th>region</th>\n",
       "      <th>chr</th>\n",
       "      <th>start</th>\n",
       "      <th>gene</th>\n",
       "      <th>pli</th>\n",
       "      <th>cts</th>\n",
       "      <th>dist</th>\n",
       "      <th>pip</th>\n",
       "      <th>tissue</th>\n",
       "      <th>eqtl</th>\n",
       "      <th>cumulative_pip</th>\n",
       "      <th>credible_set</th>\n",
       "      <th>multiome</th>\n",
       "      <th>multiome_finemap</th>\n",
       "      <th>gwas</th>\n",
       "      <th>pops_priority</th>\n",
       "      <th>chromStart</th>\n",
       "      <th>chromEnd</th>\n",
       "      <th>Significant</th>\n",
       "    </tr>\n",
       "  </thead>\n",
       "  <tbody>\n",
       "    <tr>\n",
       "      <th>13860272</th>\n",
       "      <td>chr19:555839</td>\n",
       "      <td>chr19</td>\n",
       "      <td>555839.0</td>\n",
       "      <td>ENSG00000172270</td>\n",
       "      <td>0.0</td>\n",
       "      <td>18.768976</td>\n",
       "      <td>24808.0</td>\n",
       "      <td>0.001245</td>\n",
       "      <td>Colon_Sigmoid</td>\n",
       "      <td>1</td>\n",
       "      <td>4.957516</td>\n",
       "      <td>0</td>\n",
       "      <td>0</td>\n",
       "      <td>0</td>\n",
       "      <td>0</td>\n",
       "      <td>0</td>\n",
       "      <td>555793</td>\n",
       "      <td>556394</td>\n",
       "      <td>True</td>\n",
       "    </tr>\n",
       "    <tr>\n",
       "      <th>19203505</th>\n",
       "      <td>chr19:555833</td>\n",
       "      <td>chr19</td>\n",
       "      <td>555833.0</td>\n",
       "      <td>ENSG00000172270</td>\n",
       "      <td>0.0</td>\n",
       "      <td>18.768976</td>\n",
       "      <td>24814.0</td>\n",
       "      <td>0.000171</td>\n",
       "      <td>Skin_Not_Sun_Exposed_Suprapubic</td>\n",
       "      <td>1</td>\n",
       "      <td>3.422107</td>\n",
       "      <td>0</td>\n",
       "      <td>0</td>\n",
       "      <td>0</td>\n",
       "      <td>0</td>\n",
       "      <td>0</td>\n",
       "      <td>555793</td>\n",
       "      <td>556394</td>\n",
       "      <td>True</td>\n",
       "    </tr>\n",
       "    <tr>\n",
       "      <th>21957570</th>\n",
       "      <td>chr19:555833</td>\n",
       "      <td>chr19</td>\n",
       "      <td>555833.0</td>\n",
       "      <td>ENSG00000172270</td>\n",
       "      <td>0.0</td>\n",
       "      <td>18.768976</td>\n",
       "      <td>24814.0</td>\n",
       "      <td>0.000105</td>\n",
       "      <td>Whole_Blood</td>\n",
       "      <td>1</td>\n",
       "      <td>2.739544</td>\n",
       "      <td>0</td>\n",
       "      <td>0</td>\n",
       "      <td>0</td>\n",
       "      <td>0</td>\n",
       "      <td>0</td>\n",
       "      <td>555793</td>\n",
       "      <td>556394</td>\n",
       "      <td>True</td>\n",
       "    </tr>\n",
       "    <tr>\n",
       "      <th>12282660</th>\n",
       "      <td>chr19:982793</td>\n",
       "      <td>chr19</td>\n",
       "      <td>982793.0</td>\n",
       "      <td>ENSG00000172270</td>\n",
       "      <td>0.0</td>\n",
       "      <td>18.768976</td>\n",
       "      <td>-402146.0</td>\n",
       "      <td>0.002806</td>\n",
       "      <td>Colon_Sigmoid</td>\n",
       "      <td>1</td>\n",
       "      <td>4.942069</td>\n",
       "      <td>0</td>\n",
       "      <td>0</td>\n",
       "      <td>0</td>\n",
       "      <td>0</td>\n",
       "      <td>0</td>\n",
       "      <td>982611</td>\n",
       "      <td>983111</td>\n",
       "      <td>False</td>\n",
       "    </tr>\n",
       "    <tr>\n",
       "      <th>17464171</th>\n",
       "      <td>chr19:1101922</td>\n",
       "      <td>chr19</td>\n",
       "      <td>1101922.0</td>\n",
       "      <td>ENSG00000172270</td>\n",
       "      <td>0.0</td>\n",
       "      <td>18.768976</td>\n",
       "      <td>-521275.0</td>\n",
       "      <td>0.000265</td>\n",
       "      <td>Whole_Blood</td>\n",
       "      <td>1</td>\n",
       "      <td>2.697284</td>\n",
       "      <td>0</td>\n",
       "      <td>0</td>\n",
       "      <td>0</td>\n",
       "      <td>0</td>\n",
       "      <td>0</td>\n",
       "      <td>1101709</td>\n",
       "      <td>1102209</td>\n",
       "      <td>False</td>\n",
       "    </tr>\n",
       "  </tbody>\n",
       "</table>\n",
       "</div>"
      ],
      "text/plain": [
       "                 region    chr      start             gene  pli        cts  \\\n",
       "13860272   chr19:555839  chr19   555839.0  ENSG00000172270  0.0  18.768976   \n",
       "19203505   chr19:555833  chr19   555833.0  ENSG00000172270  0.0  18.768976   \n",
       "21957570   chr19:555833  chr19   555833.0  ENSG00000172270  0.0  18.768976   \n",
       "12282660   chr19:982793  chr19   982793.0  ENSG00000172270  0.0  18.768976   \n",
       "17464171  chr19:1101922  chr19  1101922.0  ENSG00000172270  0.0  18.768976   \n",
       "\n",
       "              dist       pip                           tissue  eqtl  \\\n",
       "13860272   24808.0  0.001245                    Colon_Sigmoid     1   \n",
       "19203505   24814.0  0.000171  Skin_Not_Sun_Exposed_Suprapubic     1   \n",
       "21957570   24814.0  0.000105                      Whole_Blood     1   \n",
       "12282660 -402146.0  0.002806                    Colon_Sigmoid     1   \n",
       "17464171 -521275.0  0.000265                      Whole_Blood     1   \n",
       "\n",
       "          cumulative_pip  credible_set  multiome  multiome_finemap  gwas  \\\n",
       "13860272        4.957516             0         0                 0     0   \n",
       "19203505        3.422107             0         0                 0     0   \n",
       "21957570        2.739544             0         0                 0     0   \n",
       "12282660        4.942069             0         0                 0     0   \n",
       "17464171        2.697284             0         0                 0     0   \n",
       "\n",
       "          pops_priority  chromStart  chromEnd  Significant  \n",
       "13860272              0      555793    556394         True  \n",
       "19203505              0      555793    556394         True  \n",
       "21957570              0      555793    556394         True  \n",
       "12282660              0      982611    983111        False  \n",
       "17464171              0     1101709   1102209        False  "
      ]
     },
     "execution_count": 27,
     "metadata": {},
     "output_type": "execute_result"
    }
   ],
   "source": [
    "dfs = []\n",
    "print(len(df[df[\"chrom\"]==\"chr19\"]))\n",
    "for _, row in tqdm(df[df[\"chrom\"]==\"chr19\"].iterrows()):\n",
    "    subdf = eqtl[\n",
    "        (eqtl[\"chr\"] == \"chr19\") & \n",
    "        (eqtl[\"gene\"] == row[\"gene\"]) & \n",
    "        (eqtl[\"start\"] >= row[\"chromStart\"]) & \n",
    "        (eqtl[\"start\"] <= row[\"chromEnd\"])\n",
    "    ].copy()\n",
    "    if len(subdf) > 0: \n",
    "        subdf[\"chromStart\"] = row[\"chromStart\"]\n",
    "        subdf[\"chromEnd\"] = row[\"chromEnd\"]\n",
    "        subdf[\"Significant\"] = row[\"Significant\"]\n",
    "        dfs.append(subdf)\n",
    "    # print(row, row[\"chrom\"])\n",
    "    # break\n",
    "crispr_eqtl = pd.concat(dfs)\n",
    "print(crispr_eqtl.shape)\n",
    "crispr_eqtl.head()"
   ]
  },
  {
   "cell_type": "markdown",
   "id": "080baab3-eda8-4259-a953-c96cca6c96dc",
   "metadata": {},
   "source": [
    "## Option 1: CRISPRi"
   ]
  },
  {
   "cell_type": "code",
   "execution_count": 57,
   "id": "e1e1de47-2a31-41ee-90b3-7a1c9f2d8656",
   "metadata": {
    "execution": {
     "iopub.execute_input": "2024-10-25T11:16:16.216003Z",
     "iopub.status.busy": "2024-10-25T11:16:16.215401Z",
     "iopub.status.idle": "2024-10-25T11:16:16.219990Z",
     "shell.execute_reply": "2024-10-25T11:16:16.219371Z",
     "shell.execute_reply.started": "2024-10-25T11:16:16.215952Z"
    }
   },
   "outputs": [],
   "source": [
    "# crispr_eqtl1 = crispr_eqtl.sort_values(by=\"pip\", ascending=False).drop_duplicates(subset=[\"region\", \"gene\", \"Significant\"])"
   ]
  },
  {
   "cell_type": "code",
   "execution_count": 58,
   "id": "026187b5-9184-4951-9c7e-cd2114a47d72",
   "metadata": {
    "execution": {
     "iopub.execute_input": "2024-10-25T11:16:17.439676Z",
     "iopub.status.busy": "2024-10-25T11:16:17.439083Z",
     "iopub.status.idle": "2024-10-25T11:16:17.564123Z",
     "shell.execute_reply": "2024-10-25T11:16:17.563582Z",
     "shell.execute_reply.started": "2024-10-25T11:16:17.439625Z"
    }
   },
   "outputs": [
    {
     "data": {
      "text/plain": [
       "<Axes: >"
      ]
     },
     "execution_count": 58,
     "metadata": {},
     "output_type": "execute_result"
    },
    {
     "data": {
      "image/png": "[encoded data removed]",
      "text/plain": [
       "<Figure size 640x480 with 1 Axes>"
      ]
     },
     "metadata": {},
     "output_type": "display_data"
    }
   ],
   "source": [
    "crispr_eqtl[\"cts\"].hist()"
   ]
  },
  {
   "cell_type": "code",
   "execution_count": 60,
   "id": "fb45bf64-9757-4cd0-8b8b-944caeee36b4",
   "metadata": {
    "execution": {
     "iopub.execute_input": "2024-10-25T11:16:24.991076Z",
     "iopub.status.busy": "2024-10-25T11:16:24.988348Z",
     "iopub.status.idle": "2024-10-25T11:16:25.110901Z",
     "shell.execute_reply": "2024-10-25T11:16:25.110139Z",
     "shell.execute_reply.started": "2024-10-25T11:16:24.991034Z"
    }
   },
   "outputs": [
    {
     "data": {
      "text/plain": [
       "<Axes: >"
      ]
     },
     "execution_count": 60,
     "metadata": {},
     "output_type": "execute_result"
    },
    {
     "data": {
      "image/png": "[encoded data removed]",
      "text/plain": [
       "<Figure size 640x480 with 1 Axes>"
      ]
     },
     "metadata": {},
     "output_type": "display_data"
    }
   ],
   "source": [
    "crispr_eqtl[crispr_eqtl[\"cts\"] >= 10][\"pip\"].hist()"
   ]
  },
  {
   "cell_type": "code",
   "execution_count": 61,
   "id": "3e08020f-0717-47a4-aa30-5fb6e7e2122c",
   "metadata": {
    "execution": {
     "iopub.execute_input": "2024-10-25T11:16:36.968115Z",
     "iopub.status.busy": "2024-10-25T11:16:36.967495Z",
     "iopub.status.idle": "2024-10-25T11:16:37.088336Z",
     "shell.execute_reply": "2024-10-25T11:16:37.087557Z",
     "shell.execute_reply.started": "2024-10-25T11:16:36.968063Z"
    }
   },
   "outputs": [
    {
     "data": {
      "text/plain": [
       "<Axes: >"
      ]
     },
     "execution_count": 61,
     "metadata": {},
     "output_type": "execute_result"
    },
    {
     "data": {
      "image/png": "[encoded data removed]",
      "text/plain": [
       "<Figure size 640x480 with 1 Axes>"
      ]
     },
     "metadata": {},
     "output_type": "display_data"
    }
   ],
   "source": [
    "crispr_eqtl[crispr_eqtl[\"cts\"] < 10][\"pip\"].hist()"
   ]
  },
  {
   "cell_type": "code",
   "execution_count": 62,
   "id": "b96e2de6-42cb-495c-b486-673ed88fdf9a",
   "metadata": {
    "execution": {
     "iopub.execute_input": "2024-10-25T11:16:41.634709Z",
     "iopub.status.busy": "2024-10-25T11:16:41.634156Z",
     "iopub.status.idle": "2024-10-25T11:16:41.638617Z",
     "shell.execute_reply": "2024-10-25T11:16:41.637957Z",
     "shell.execute_reply.started": "2024-10-25T11:16:41.634668Z"
    }
   },
   "outputs": [],
   "source": [
    "# crispr_eqtl1[crispr_eqtl1[\"cts\"] >= 10][\"Significant\"].sum(), crispr_eqtl1[crispr_eqtl1[\"cts\"] <= 10][\"Significant\"].sum()"
   ]
  },
  {
   "cell_type": "code",
   "execution_count": 97,
   "id": "1636a402-0eed-4bbb-9635-d6d8d6919534",
   "metadata": {
    "execution": {
     "iopub.execute_input": "2024-10-25T11:51:36.606342Z",
     "iopub.status.busy": "2024-10-25T11:51:36.605749Z",
     "iopub.status.idle": "2024-10-25T11:51:36.611529Z",
     "shell.execute_reply": "2024-10-25T11:51:36.610762Z",
     "shell.execute_reply.started": "2024-10-25T11:51:36.606295Z"
    }
   },
   "outputs": [],
   "source": [
    "crispr_eqtl[\"eqtl_pass\"] = crispr_eqtl[\"pip\"] >= 0.1"
   ]
  },
  {
   "cell_type": "code",
   "execution_count": 74,
   "id": "b312f114-c187-416a-8190-f8eabf78b358",
   "metadata": {
    "execution": {
     "iopub.execute_input": "2024-10-25T11:17:56.756147Z",
     "iopub.status.busy": "2024-10-25T11:17:56.755528Z",
     "iopub.status.idle": "2024-10-25T11:17:56.766266Z",
     "shell.execute_reply": "2024-10-25T11:17:56.765630Z",
     "shell.execute_reply.started": "2024-10-25T11:17:56.756097Z"
    }
   },
   "outputs": [
    {
     "data": {
      "text/plain": [
       "eqtl_pass  Significant\n",
       "False      False          421\n",
       "True       False           44\n",
       "False      True            27\n",
       "True       True             1\n",
       "Name: count, dtype: int64"
      ]
     },
     "execution_count": 74,
     "metadata": {},
     "output_type": "execute_result"
    }
   ],
   "source": [
    "crispr_eqtl[crispr_eqtl[\"cts\"] > 10].value_counts([\"eqtl_pass\", \"Significant\"])"
   ]
  },
  {
   "cell_type": "code",
   "execution_count": 98,
   "id": "4b9ab7d3-bdea-4862-9447-82f5ef88a244",
   "metadata": {
    "execution": {
     "iopub.execute_input": "2024-10-25T11:51:39.712433Z",
     "iopub.status.busy": "2024-10-25T11:51:39.711848Z",
     "iopub.status.idle": "2024-10-25T11:51:39.721857Z",
     "shell.execute_reply": "2024-10-25T11:51:39.721256Z",
     "shell.execute_reply.started": "2024-10-25T11:51:39.712383Z"
    }
   },
   "outputs": [
    {
     "data": {
      "text/plain": [
       "eqtl_pass  Significant\n",
       "False      False          30\n",
       "Name: count, dtype: int64"
      ]
     },
     "execution_count": 98,
     "metadata": {},
     "output_type": "execute_result"
    }
   ],
   "source": [
    "crispr_eqtl[crispr_eqtl[\"pli\"] > 0.9].value_counts([\"eqtl_pass\", \"Significant\"])"
   ]
  },
  {
   "cell_type": "code",
   "execution_count": 99,
   "id": "e013efcb-3bca-489c-923e-5dea9f1d7b82",
   "metadata": {
    "execution": {
     "iopub.execute_input": "2024-10-25T11:51:48.177629Z",
     "iopub.status.busy": "2024-10-25T11:51:48.177037Z",
     "iopub.status.idle": "2024-10-25T11:51:48.187886Z",
     "shell.execute_reply": "2024-10-25T11:51:48.187190Z",
     "shell.execute_reply.started": "2024-10-25T11:51:48.177578Z"
    }
   },
   "outputs": [
    {
     "data": {
      "text/plain": [
       "eqtl_pass  Significant\n",
       "False      False          641\n",
       "True       False           51\n",
       "False      True            37\n",
       "True       True             2\n",
       "Name: count, dtype: int64"
      ]
     },
     "execution_count": 99,
     "metadata": {},
     "output_type": "execute_result"
    }
   ],
   "source": [
    "crispr_eqtl[crispr_eqtl[\"pli\"] <= 0.9].value_counts([\"eqtl_pass\", \"Significant\"])"
   ]
  },
  {
   "cell_type": "code",
   "execution_count": 102,
   "id": "a2505e0c-a70e-482a-971d-1e89bc4dfc4b",
   "metadata": {
    "execution": {
     "iopub.execute_input": "2024-10-25T11:52:59.231010Z",
     "iopub.status.busy": "2024-10-25T11:52:59.230463Z",
     "iopub.status.idle": "2024-10-25T11:52:59.243547Z",
     "shell.execute_reply": "2024-10-25T11:52:59.242919Z",
     "shell.execute_reply.started": "2024-10-25T11:52:59.230967Z"
    }
   },
   "outputs": [
    {
     "data": {
      "text/plain": [
       "scent_pass  Significant\n",
       "False       False          144\n",
       "True        False           23\n",
       "False       True             8\n",
       "Name: count, dtype: int64"
      ]
     },
     "execution_count": 102,
     "metadata": {},
     "output_type": "execute_result"
    }
   ],
   "source": [
    "crispr_multiome[crispr_multiome[\"pli\"] > 0.9].value_counts([\"scent_pass\", \"Significant\"])"
   ]
  },
  {
   "cell_type": "code",
   "execution_count": 104,
   "id": "ba2151e3-3c18-447d-8f90-e34268d58269",
   "metadata": {
    "execution": {
     "iopub.execute_input": "2024-10-25T11:53:30.224604Z",
     "iopub.status.busy": "2024-10-25T11:53:30.224017Z",
     "iopub.status.idle": "2024-10-25T11:53:30.234416Z",
     "shell.execute_reply": "2024-10-25T11:53:30.233781Z",
     "shell.execute_reply.started": "2024-10-25T11:53:30.224552Z"
    }
   },
   "outputs": [
    {
     "data": {
      "text/plain": [
       "scent_pass  Significant\n",
       "False       False          1706\n",
       "True        False            80\n",
       "False       True             31\n",
       "True        True             11\n",
       "Name: count, dtype: int64"
      ]
     },
     "execution_count": 104,
     "metadata": {},
     "output_type": "execute_result"
    }
   ],
   "source": [
    "crispr_multiome[crispr_multiome[\"pli\"] <= 0.9].value_counts([\"scent_pass\", \"Significant\"])"
   ]
  },
  {
   "cell_type": "code",
   "execution_count": 75,
   "id": "b1d236e8-52dc-43e1-9a84-205c49f81125",
   "metadata": {
    "execution": {
     "iopub.execute_input": "2024-10-25T11:17:59.768379Z",
     "iopub.status.busy": "2024-10-25T11:17:59.767776Z",
     "iopub.status.idle": "2024-10-25T11:17:59.778066Z",
     "shell.execute_reply": "2024-10-25T11:17:59.777418Z",
     "shell.execute_reply.started": "2024-10-25T11:17:59.768327Z"
    }
   },
   "outputs": [
    {
     "data": {
      "text/plain": [
       "eqtl_pass  Significant\n",
       "False      False          250\n",
       "           True            10\n",
       "True       False            7\n",
       "           True             1\n",
       "Name: count, dtype: int64"
      ]
     },
     "execution_count": 75,
     "metadata": {},
     "output_type": "execute_result"
    }
   ],
   "source": [
    "crispr_eqtl[crispr_eqtl[\"cts\"] <= 10].value_counts([\"eqtl_pass\", \"Significant\"])"
   ]
  },
  {
   "cell_type": "code",
   "execution_count": 76,
   "id": "766d329d-c51d-4a2a-84e5-340fd4a72db6",
   "metadata": {
    "execution": {
     "iopub.execute_input": "2024-10-25T11:19:20.340845Z",
     "iopub.status.busy": "2024-10-25T11:19:20.340237Z",
     "iopub.status.idle": "2024-10-25T11:19:20.352514Z",
     "shell.execute_reply": "2024-10-25T11:19:20.351885Z",
     "shell.execute_reply.started": "2024-10-25T11:19:20.340784Z"
    }
   },
   "outputs": [
    {
     "data": {
      "text/plain": [
       "scent_pass  Significant\n",
       "False       False          1195\n",
       "True        False            95\n",
       "False       True             29\n",
       "True        True             11\n",
       "Name: count, dtype: int64"
      ]
     },
     "execution_count": 76,
     "metadata": {},
     "output_type": "execute_result"
    }
   ],
   "source": [
    "crispr_multiome[\"scent_pass\"] = crispr_multiome[\"SCENT\"] <= 0.1\n",
    "crispr_multiome[crispr_multiome[\"cts\"] > 10].value_counts([\"scent_pass\", \"Significant\"])"
   ]
  },
  {
   "cell_type": "code",
   "execution_count": 77,
   "id": "f61df969-c24c-4534-a320-a2ba89718d95",
   "metadata": {
    "execution": {
     "iopub.execute_input": "2024-10-25T11:19:31.828426Z",
     "iopub.status.busy": "2024-10-25T11:19:31.827834Z",
     "iopub.status.idle": "2024-10-25T11:19:31.840301Z",
     "shell.execute_reply": "2024-10-25T11:19:31.839631Z",
     "shell.execute_reply.started": "2024-10-25T11:19:31.828373Z"
    }
   },
   "outputs": [
    {
     "data": {
      "text/plain": [
       "scent_pass  Significant\n",
       "False       False          655\n",
       "            True            10\n",
       "True        False            8\n",
       "Name: count, dtype: int64"
      ]
     },
     "execution_count": 77,
     "metadata": {},
     "output_type": "execute_result"
    }
   ],
   "source": [
    "crispr_multiome[crispr_multiome[\"cts\"] <= 10].value_counts([\"scent_pass\", \"Significant\"])"
   ]
  },
  {
   "cell_type": "code",
   "execution_count": 78,
   "id": "0f96c930-a3fc-4367-b499-9d02b63ec016",
   "metadata": {
    "execution": {
     "iopub.execute_input": "2024-10-25T11:19:48.940463Z",
     "iopub.status.busy": "2024-10-25T11:19:48.939863Z",
     "iopub.status.idle": "2024-10-25T11:19:48.964587Z",
     "shell.execute_reply": "2024-10-25T11:19:48.964046Z",
     "shell.execute_reply.started": "2024-10-25T11:19:48.940411Z"
    }
   },
   "outputs": [
    {
     "data": {
      "text/html": [
       "<div>\n",
       "<style scoped>\n",
       "    .dataframe tbody tr th:only-of-type {\n",
       "        vertical-align: middle;\n",
       "    }\n",
       "\n",
       "    .dataframe tbody tr th {\n",
       "        vertical-align: top;\n",
       "    }\n",
       "\n",
       "    .dataframe thead th {\n",
       "        text-align: right;\n",
       "    }\n",
       "</style>\n",
       "<table border=\"1\" class=\"dataframe\">\n",
       "  <thead>\n",
       "    <tr style=\"text-align: right;\">\n",
       "      <th></th>\n",
       "      <th>region</th>\n",
       "      <th>chr</th>\n",
       "      <th>start</th>\n",
       "      <th>gene</th>\n",
       "      <th>pli</th>\n",
       "      <th>cts</th>\n",
       "      <th>dist</th>\n",
       "      <th>SCENT</th>\n",
       "      <th>multiome</th>\n",
       "      <th>multiome_finemap</th>\n",
       "      <th>gwas</th>\n",
       "      <th>pops_priority</th>\n",
       "      <th>eqtl</th>\n",
       "      <th>credible_set</th>\n",
       "      <th>chromStart</th>\n",
       "      <th>chromEnd</th>\n",
       "      <th>Significant</th>\n",
       "      <th>scent_pass</th>\n",
       "    </tr>\n",
       "  </thead>\n",
       "  <tbody>\n",
       "    <tr>\n",
       "      <th>2137267</th>\n",
       "      <td>chr19:555832-555833</td>\n",
       "      <td>chr19</td>\n",
       "      <td>555832.0</td>\n",
       "      <td>ENSG00000172270</td>\n",
       "      <td>0.00</td>\n",
       "      <td>18.768976</td>\n",
       "      <td>24814.0</td>\n",
       "      <td>0.474816</td>\n",
       "      <td>1</td>\n",
       "      <td>0</td>\n",
       "      <td>0</td>\n",
       "      <td>0</td>\n",
       "      <td>0</td>\n",
       "      <td>0</td>\n",
       "      <td>555793</td>\n",
       "      <td>556394</td>\n",
       "      <td>True</td>\n",
       "      <td>False</td>\n",
       "    </tr>\n",
       "    <tr>\n",
       "      <th>2137293</th>\n",
       "      <td>chr19:555838-555839</td>\n",
       "      <td>chr19</td>\n",
       "      <td>555838.0</td>\n",
       "      <td>ENSG00000172270</td>\n",
       "      <td>0.00</td>\n",
       "      <td>18.768976</td>\n",
       "      <td>24808.0</td>\n",
       "      <td>0.474816</td>\n",
       "      <td>1</td>\n",
       "      <td>0</td>\n",
       "      <td>0</td>\n",
       "      <td>0</td>\n",
       "      <td>0</td>\n",
       "      <td>0</td>\n",
       "      <td>555793</td>\n",
       "      <td>556394</td>\n",
       "      <td>True</td>\n",
       "      <td>False</td>\n",
       "    </tr>\n",
       "    <tr>\n",
       "      <th>2137456</th>\n",
       "      <td>chr19:556111-556112</td>\n",
       "      <td>chr19</td>\n",
       "      <td>556111.0</td>\n",
       "      <td>ENSG00000172270</td>\n",
       "      <td>0.00</td>\n",
       "      <td>18.768976</td>\n",
       "      <td>24535.0</td>\n",
       "      <td>0.474816</td>\n",
       "      <td>1</td>\n",
       "      <td>0</td>\n",
       "      <td>0</td>\n",
       "      <td>0</td>\n",
       "      <td>0</td>\n",
       "      <td>0</td>\n",
       "      <td>555793</td>\n",
       "      <td>556394</td>\n",
       "      <td>True</td>\n",
       "      <td>False</td>\n",
       "    </tr>\n",
       "    <tr>\n",
       "      <th>2137759</th>\n",
       "      <td>chr19:556307-556308</td>\n",
       "      <td>chr19</td>\n",
       "      <td>556307.0</td>\n",
       "      <td>ENSG00000172270</td>\n",
       "      <td>0.00</td>\n",
       "      <td>18.768976</td>\n",
       "      <td>24339.0</td>\n",
       "      <td>0.474816</td>\n",
       "      <td>1</td>\n",
       "      <td>0</td>\n",
       "      <td>0</td>\n",
       "      <td>0</td>\n",
       "      <td>0</td>\n",
       "      <td>0</td>\n",
       "      <td>555793</td>\n",
       "      <td>556394</td>\n",
       "      <td>True</td>\n",
       "      <td>False</td>\n",
       "    </tr>\n",
       "    <tr>\n",
       "      <th>2198016</th>\n",
       "      <td>chr19:982697-982698</td>\n",
       "      <td>chr19</td>\n",
       "      <td>982697.0</td>\n",
       "      <td>ENSG00000172270</td>\n",
       "      <td>0.00</td>\n",
       "      <td>18.768976</td>\n",
       "      <td>-402051.0</td>\n",
       "      <td>0.762557</td>\n",
       "      <td>1</td>\n",
       "      <td>0</td>\n",
       "      <td>0</td>\n",
       "      <td>0</td>\n",
       "      <td>0</td>\n",
       "      <td>0</td>\n",
       "      <td>982611</td>\n",
       "      <td>983111</td>\n",
       "      <td>False</td>\n",
       "      <td>False</td>\n",
       "    </tr>\n",
       "    <tr>\n",
       "      <th>...</th>\n",
       "      <td>...</td>\n",
       "      <td>...</td>\n",
       "      <td>...</td>\n",
       "      <td>...</td>\n",
       "      <td>...</td>\n",
       "      <td>...</td>\n",
       "      <td>...</td>\n",
       "      <td>...</td>\n",
       "      <td>...</td>\n",
       "      <td>...</td>\n",
       "      <td>...</td>\n",
       "      <td>...</td>\n",
       "      <td>...</td>\n",
       "      <td>...</td>\n",
       "      <td>...</td>\n",
       "      <td>...</td>\n",
       "      <td>...</td>\n",
       "      <td>...</td>\n",
       "    </tr>\n",
       "    <tr>\n",
       "      <th>2136633</th>\n",
       "      <td>chr19:55547370-55547371</td>\n",
       "      <td>chr19</td>\n",
       "      <td>55547370.0</td>\n",
       "      <td>ENSG00000213015</td>\n",
       "      <td>0.53</td>\n",
       "      <td>8.205548</td>\n",
       "      <td>94726.0</td>\n",
       "      <td>1.000000</td>\n",
       "      <td>1</td>\n",
       "      <td>0</td>\n",
       "      <td>0</td>\n",
       "      <td>0</td>\n",
       "      <td>0</td>\n",
       "      <td>0</td>\n",
       "      <td>55547221</td>\n",
       "      <td>55548272</td>\n",
       "      <td>False</td>\n",
       "      <td>False</td>\n",
       "    </tr>\n",
       "    <tr>\n",
       "      <th>2136650</th>\n",
       "      <td>chr19:55547587-55547588</td>\n",
       "      <td>chr19</td>\n",
       "      <td>55547587.0</td>\n",
       "      <td>ENSG00000213015</td>\n",
       "      <td>0.53</td>\n",
       "      <td>8.205548</td>\n",
       "      <td>94509.0</td>\n",
       "      <td>1.000000</td>\n",
       "      <td>1</td>\n",
       "      <td>0</td>\n",
       "      <td>0</td>\n",
       "      <td>0</td>\n",
       "      <td>0</td>\n",
       "      <td>0</td>\n",
       "      <td>55547221</td>\n",
       "      <td>55548272</td>\n",
       "      <td>False</td>\n",
       "      <td>False</td>\n",
       "    </tr>\n",
       "    <tr>\n",
       "      <th>2142304</th>\n",
       "      <td>chr19:57098980-57098981</td>\n",
       "      <td>chr19</td>\n",
       "      <td>57098980.0</td>\n",
       "      <td>ENSG00000251369</td>\n",
       "      <td>0.00</td>\n",
       "      <td>3.751186</td>\n",
       "      <td>460879.0</td>\n",
       "      <td>1.000000</td>\n",
       "      <td>1</td>\n",
       "      <td>0</td>\n",
       "      <td>0</td>\n",
       "      <td>0</td>\n",
       "      <td>0</td>\n",
       "      <td>0</td>\n",
       "      <td>57098938</td>\n",
       "      <td>57099438</td>\n",
       "      <td>True</td>\n",
       "      <td>False</td>\n",
       "    </tr>\n",
       "    <tr>\n",
       "      <th>2142323</th>\n",
       "      <td>chr19:57099403-57099404</td>\n",
       "      <td>chr19</td>\n",
       "      <td>57099403.0</td>\n",
       "      <td>ENSG00000251369</td>\n",
       "      <td>0.00</td>\n",
       "      <td>3.751186</td>\n",
       "      <td>460456.0</td>\n",
       "      <td>1.000000</td>\n",
       "      <td>1</td>\n",
       "      <td>0</td>\n",
       "      <td>0</td>\n",
       "      <td>0</td>\n",
       "      <td>0</td>\n",
       "      <td>0</td>\n",
       "      <td>57098938</td>\n",
       "      <td>57099438</td>\n",
       "      <td>True</td>\n",
       "      <td>False</td>\n",
       "    </tr>\n",
       "    <tr>\n",
       "      <th>2142342</th>\n",
       "      <td>chr19:57099407-57099408</td>\n",
       "      <td>chr19</td>\n",
       "      <td>57099407.0</td>\n",
       "      <td>ENSG00000251369</td>\n",
       "      <td>0.00</td>\n",
       "      <td>3.751186</td>\n",
       "      <td>460452.0</td>\n",
       "      <td>1.000000</td>\n",
       "      <td>1</td>\n",
       "      <td>0</td>\n",
       "      <td>0</td>\n",
       "      <td>0</td>\n",
       "      <td>0</td>\n",
       "      <td>0</td>\n",
       "      <td>57098938</td>\n",
       "      <td>57099438</td>\n",
       "      <td>True</td>\n",
       "      <td>False</td>\n",
       "    </tr>\n",
       "  </tbody>\n",
       "</table>\n",
       "<p>2003 rows × 18 columns</p>\n",
       "</div>"
      ],
      "text/plain": [
       "                          region    chr       start             gene   pli  \\\n",
       "2137267      chr19:555832-555833  chr19    555832.0  ENSG00000172270  0.00   \n",
       "2137293      chr19:555838-555839  chr19    555838.0  ENSG00000172270  0.00   \n",
       "2137456      chr19:556111-556112  chr19    556111.0  ENSG00000172270  0.00   \n",
       "2137759      chr19:556307-556308  chr19    556307.0  ENSG00000172270  0.00   \n",
       "2198016      chr19:982697-982698  chr19    982697.0  ENSG00000172270  0.00   \n",
       "...                          ...    ...         ...              ...   ...   \n",
       "2136633  chr19:55547370-55547371  chr19  55547370.0  ENSG00000213015  0.53   \n",
       "2136650  chr19:55547587-55547588  chr19  55547587.0  ENSG00000213015  0.53   \n",
       "2142304  chr19:57098980-57098981  chr19  57098980.0  ENSG00000251369  0.00   \n",
       "2142323  chr19:57099403-57099404  chr19  57099403.0  ENSG00000251369  0.00   \n",
       "2142342  chr19:57099407-57099408  chr19  57099407.0  ENSG00000251369  0.00   \n",
       "\n",
       "               cts      dist     SCENT  multiome  multiome_finemap  gwas  \\\n",
       "2137267  18.768976   24814.0  0.474816         1                 0     0   \n",
       "2137293  18.768976   24808.0  0.474816         1                 0     0   \n",
       "2137456  18.768976   24535.0  0.474816         1                 0     0   \n",
       "2137759  18.768976   24339.0  0.474816         1                 0     0   \n",
       "2198016  18.768976 -402051.0  0.762557         1                 0     0   \n",
       "...            ...       ...       ...       ...               ...   ...   \n",
       "2136633   8.205548   94726.0  1.000000         1                 0     0   \n",
       "2136650   8.205548   94509.0  1.000000         1                 0     0   \n",
       "2142304   3.751186  460879.0  1.000000         1                 0     0   \n",
       "2142323   3.751186  460456.0  1.000000         1                 0     0   \n",
       "2142342   3.751186  460452.0  1.000000         1                 0     0   \n",
       "\n",
       "         pops_priority  eqtl  credible_set  chromStart  chromEnd  Significant  \\\n",
       "2137267              0     0             0      555793    556394         True   \n",
       "2137293              0     0             0      555793    556394         True   \n",
       "2137456              0     0             0      555793    556394         True   \n",
       "2137759              0     0             0      555793    556394         True   \n",
       "2198016              0     0             0      982611    983111        False   \n",
       "...                ...   ...           ...         ...       ...          ...   \n",
       "2136633              0     0             0    55547221  55548272        False   \n",
       "2136650              0     0             0    55547221  55548272        False   \n",
       "2142304              0     0             0    57098938  57099438         True   \n",
       "2142323              0     0             0    57098938  57099438         True   \n",
       "2142342              0     0             0    57098938  57099438         True   \n",
       "\n",
       "         scent_pass  \n",
       "2137267       False  \n",
       "2137293       False  \n",
       "2137456       False  \n",
       "2137759       False  \n",
       "2198016       False  \n",
       "...             ...  \n",
       "2136633       False  \n",
       "2136650       False  \n",
       "2142304       False  \n",
       "2142323       False  \n",
       "2142342       False  \n",
       "\n",
       "[2003 rows x 18 columns]"
      ]
     },
     "execution_count": 78,
     "metadata": {},
     "output_type": "execute_result"
    }
   ],
   "source": [
    "crispr_multiome"
   ]
  },
  {
   "cell_type": "code",
   "execution_count": null,
   "id": "8df205a4-466d-4429-b893-ee4c9ed43aa3",
   "metadata": {},
   "outputs": [],
   "source": []
  }
 ],
 "metadata": {
  "kernelspec": {
   "display_name": "Python 3 (ipykernel)",
   "language": "python",
   "name": "python3"
  },
  "language_info": {
   "codemirror_mode": {
    "name": "ipython",
    "version": 3
   },
   "file_extension": ".py",
   "mimetype": "text/x-python",
   "name": "python",
   "nbconvert_exporter": "python",
   "pygments_lexer": "ipython3",
   "version": "3.10.14"
  }
 },
 "nbformat": 4,
 "nbformat_minor": 5
}
