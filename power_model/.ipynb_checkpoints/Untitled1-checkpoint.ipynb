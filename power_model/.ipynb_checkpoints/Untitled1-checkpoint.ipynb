{
 "cells": [
  {
   "cell_type": "code",
   "execution_count": 11,
   "id": "9c873bfb-fada-46e6-a82a-2eba88b5c914",
   "metadata": {
    "execution": {
     "iopub.execute_input": "2024-10-17T14:03:41.704437Z",
     "iopub.status.busy": "2024-10-17T14:03:41.703479Z",
     "iopub.status.idle": "2024-10-17T14:03:41.710256Z",
     "shell.execute_reply": "2024-10-17T14:03:41.709169Z",
     "shell.execute_reply.started": "2024-10-17T14:03:41.704388Z"
    }
   },
   "outputs": [],
   "source": [
    "\n",
    "import pandas as pd\n",
    "import numpy as np\n",
    "import matplotlib.pyplot as plt\n",
    "pd.set_option('display.max_columns', None)\n"
   ]
  },
  {
   "cell_type": "code",
   "execution_count": 32,
   "id": "929427d2-2799-4fa5-8314-3c493243ad44",
   "metadata": {
    "execution": {
     "iopub.execute_input": "2024-10-17T14:44:53.588510Z",
     "iopub.status.busy": "2024-10-17T14:44:53.587729Z",
     "iopub.status.idle": "2024-10-17T14:44:53.932532Z",
     "shell.execute_reply": "2024-10-17T14:44:53.931706Z",
     "shell.execute_reply.started": "2024-10-17T14:44:53.588462Z"
    },
    "scrolled": true
   },
   "outputs": [
    {
     "data": {
      "text/html": [
       "<div>\n",
       "<style scoped>\n",
       "    .dataframe tbody tr th:only-of-type {\n",
       "        vertical-align: middle;\n",
       "    }\n",
       "\n",
       "    .dataframe tbody tr th {\n",
       "        vertical-align: top;\n",
       "    }\n",
       "\n",
       "    .dataframe thead th {\n",
       "        text-align: right;\n",
       "    }\n",
       "</style>\n",
       "<table border=\"1\" class=\"dataframe\">\n",
       "  <thead>\n",
       "    <tr style=\"text-align: right;\">\n",
       "      <th></th>\n",
       "      <th>Unnamed: 0</th>\n",
       "      <th>rsID</th>\n",
       "      <th>Gene_symbol</th>\n",
       "      <th>SCENT</th>\n",
       "      <th>SCENT_percentile</th>\n",
       "      <th>Signac</th>\n",
       "      <th>Signac_percentile</th>\n",
       "      <th>ArchR</th>\n",
       "      <th>ArchR_percentile</th>\n",
       "      <th>Cicero</th>\n",
       "      <th>Cicero_percentile</th>\n",
       "      <th>gene</th>\n",
       "      <th>chr</th>\n",
       "      <th>start</th>\n",
       "      <th>end</th>\n",
       "      <th>region</th>\n",
       "      <th>pli</th>\n",
       "      <th>cts</th>\n",
       "      <th>tss</th>\n",
       "      <th>dist</th>\n",
       "    </tr>\n",
       "  </thead>\n",
       "  <tbody>\n",
       "    <tr>\n",
       "      <th>1319</th>\n",
       "      <td>1398</td>\n",
       "      <td>rs35940137</td>\n",
       "      <td>SDF4</td>\n",
       "      <td>1.0</td>\n",
       "      <td>0.774173</td>\n",
       "      <td>0.020535</td>\n",
       "      <td>0.579779</td>\n",
       "      <td>0.278940</td>\n",
       "      <td>0.634133</td>\n",
       "      <td>0.028253</td>\n",
       "      <td>0.737184</td>\n",
       "      <td>ENSG00000078808</td>\n",
       "      <td>chr1</td>\n",
       "      <td>1004822</td>\n",
       "      <td>1004823</td>\n",
       "      <td>chr1:1004822-1004823</td>\n",
       "      <td>0.01</td>\n",
       "      <td>13.060926</td>\n",
       "      <td>1231968</td>\n",
       "      <td>227145</td>\n",
       "    </tr>\n",
       "    <tr>\n",
       "      <th>1313</th>\n",
       "      <td>1389</td>\n",
       "      <td>rs35940137</td>\n",
       "      <td>DVL1</td>\n",
       "      <td>1.0</td>\n",
       "      <td>0.774173</td>\n",
       "      <td>0.008240</td>\n",
       "      <td>0.324802</td>\n",
       "      <td>0.172265</td>\n",
       "      <td>0.447220</td>\n",
       "      <td>0.000000</td>\n",
       "      <td>0.558541</td>\n",
       "      <td>ENSG00000107404</td>\n",
       "      <td>chr1</td>\n",
       "      <td>1004822</td>\n",
       "      <td>1004823</td>\n",
       "      <td>chr1:1004822-1004823</td>\n",
       "      <td>0.00</td>\n",
       "      <td>4.197545</td>\n",
       "      <td>1348955</td>\n",
       "      <td>344132</td>\n",
       "    </tr>\n",
       "    <tr>\n",
       "      <th>1315</th>\n",
       "      <td>1391</td>\n",
       "      <td>rs35940137</td>\n",
       "      <td>INTS11</td>\n",
       "      <td>1.0</td>\n",
       "      <td>0.774173</td>\n",
       "      <td>0.000000</td>\n",
       "      <td>0.171973</td>\n",
       "      <td>0.145284</td>\n",
       "      <td>0.395330</td>\n",
       "      <td>0.000000</td>\n",
       "      <td>0.558541</td>\n",
       "      <td>ENSG00000127054</td>\n",
       "      <td>chr1</td>\n",
       "      <td>1004822</td>\n",
       "      <td>1004823</td>\n",
       "      <td>chr1:1004822-1004823</td>\n",
       "      <td>0.00</td>\n",
       "      <td>7.137367</td>\n",
       "      <td>1324613</td>\n",
       "      <td>319790</td>\n",
       "    </tr>\n",
       "    <tr>\n",
       "      <th>1306</th>\n",
       "      <td>1381</td>\n",
       "      <td>rs35940137</td>\n",
       "      <td>ACAP3</td>\n",
       "      <td>1.0</td>\n",
       "      <td>0.774173</td>\n",
       "      <td>0.019238</td>\n",
       "      <td>0.553212</td>\n",
       "      <td>0.300440</td>\n",
       "      <td>0.667403</td>\n",
       "      <td>0.119749</td>\n",
       "      <td>0.867228</td>\n",
       "      <td>ENSG00000131584</td>\n",
       "      <td>chr1</td>\n",
       "      <td>1004822</td>\n",
       "      <td>1004823</td>\n",
       "      <td>chr1:1004822-1004823</td>\n",
       "      <td>0.00</td>\n",
       "      <td>5.105015</td>\n",
       "      <td>1307818</td>\n",
       "      <td>302995</td>\n",
       "    </tr>\n",
       "    <tr>\n",
       "      <th>1308</th>\n",
       "      <td>1383</td>\n",
       "      <td>rs35940137</td>\n",
       "      <td>ATAD3B</td>\n",
       "      <td>1.0</td>\n",
       "      <td>0.774173</td>\n",
       "      <td>0.013982</td>\n",
       "      <td>0.440855</td>\n",
       "      <td>0.245057</td>\n",
       "      <td>0.578329</td>\n",
       "      <td>0.077375</td>\n",
       "      <td>0.819965</td>\n",
       "      <td>ENSG00000160072</td>\n",
       "      <td>chr1</td>\n",
       "      <td>1004822</td>\n",
       "      <td>1004823</td>\n",
       "      <td>chr1:1004822-1004823</td>\n",
       "      <td>0.00</td>\n",
       "      <td>3.333568</td>\n",
       "      <td>1484569</td>\n",
       "      <td>479746</td>\n",
       "    </tr>\n",
       "  </tbody>\n",
       "</table>\n",
       "</div>"
      ],
      "text/plain": [
       "      Unnamed: 0        rsID Gene_symbol  SCENT  SCENT_percentile    Signac  \\\n",
       "1319        1398  rs35940137        SDF4    1.0          0.774173  0.020535   \n",
       "1313        1389  rs35940137        DVL1    1.0          0.774173  0.008240   \n",
       "1315        1391  rs35940137      INTS11    1.0          0.774173  0.000000   \n",
       "1306        1381  rs35940137       ACAP3    1.0          0.774173  0.019238   \n",
       "1308        1383  rs35940137      ATAD3B    1.0          0.774173  0.013982   \n",
       "\n",
       "      Signac_percentile     ArchR  ArchR_percentile    Cicero  \\\n",
       "1319           0.579779  0.278940          0.634133  0.028253   \n",
       "1313           0.324802  0.172265          0.447220  0.000000   \n",
       "1315           0.171973  0.145284          0.395330  0.000000   \n",
       "1306           0.553212  0.300440          0.667403  0.119749   \n",
       "1308           0.440855  0.245057          0.578329  0.077375   \n",
       "\n",
       "      Cicero_percentile             gene   chr    start      end  \\\n",
       "1319           0.737184  ENSG00000078808  chr1  1004822  1004823   \n",
       "1313           0.558541  ENSG00000107404  chr1  1004822  1004823   \n",
       "1315           0.558541  ENSG00000127054  chr1  1004822  1004823   \n",
       "1306           0.867228  ENSG00000131584  chr1  1004822  1004823   \n",
       "1308           0.819965  ENSG00000160072  chr1  1004822  1004823   \n",
       "\n",
       "                    region   pli        cts      tss    dist  \n",
       "1319  chr1:1004822-1004823  0.01  13.060926  1231968  227145  \n",
       "1313  chr1:1004822-1004823  0.00   4.197545  1348955  344132  \n",
       "1315  chr1:1004822-1004823  0.00   7.137367  1324613  319790  \n",
       "1306  chr1:1004822-1004823  0.00   5.105015  1307818  302995  \n",
       "1308  chr1:1004822-1004823  0.00   3.333568  1484569  479746  "
      ]
     },
     "execution_count": 32,
     "metadata": {},
     "output_type": "execute_result"
    }
   ],
   "source": [
    "data_dir = \"/projects/zhanglab/users/ana/multiome/validation/gentruth/model/train/\" \n",
    "df = pd.read_csv(\n",
    "    data_dir + \"pgb_constituents.tsv.gz\", \n",
    "    sep=\"\\t\", nrows=100000\n",
    "    # usecols=[\"region\", \"chr\", \"start\", \"gene\", \"pli\", \"cts\", \"dist\", \"pops_score\", \"trait\"]\n",
    ").sort_values(by=[\"chr\", \"start\", \"gene\"])\n",
    "df.head()"
   ]
  },
  {
   "cell_type": "code",
   "execution_count": 31,
   "id": "b80495df-5420-410b-8495-b2df361ddda6",
   "metadata": {
    "execution": {
     "iopub.execute_input": "2024-10-17T14:40:55.702459Z",
     "iopub.status.busy": "2024-10-17T14:40:55.701676Z",
     "iopub.status.idle": "2024-10-17T14:40:55.774094Z",
     "shell.execute_reply": "2024-10-17T14:40:55.773554Z",
     "shell.execute_reply.started": "2024-10-17T14:40:55.702409Z"
    }
   },
   "outputs": [
    {
     "data": {
      "text/plain": [
       "((246884, 9), (246884, 4))"
      ]
     },
     "execution_count": 31,
     "metadata": {},
     "output_type": "execute_result"
    }
   ],
   "source": [
    "df.shape, df[[\"chr\", \"start\", \"gene\", \"trait\"]].drop_duplicates().shape"
   ]
  },
  {
   "cell_type": "code",
   "execution_count": 24,
   "id": "0c14443b-e7bf-4299-a7c4-2cb21b6301a4",
   "metadata": {
    "execution": {
     "iopub.execute_input": "2024-10-17T14:35:12.870602Z",
     "iopub.status.busy": "2024-10-17T14:35:12.869786Z",
     "iopub.status.idle": "2024-10-17T14:35:13.066638Z",
     "shell.execute_reply": "2024-10-17T14:35:13.065902Z",
     "shell.execute_reply.started": "2024-10-17T14:35:12.870552Z"
    }
   },
   "outputs": [
    {
     "data": {
      "text/plain": [
       "(array([  1.,   0.,   0.,   0.,   1.,   6.,   8.,  12.,  18.,  13.,  33.,\n",
       "         30.,  65.,  59., 106.,  87., 163., 188., 225., 248., 317., 371.,\n",
       "        391., 426., 440., 483., 464., 515., 477., 470., 487., 439., 387.,\n",
       "        374., 292., 291., 243., 249., 211., 152., 142., 109., 113.,  71.,\n",
       "         84.,  65.,  51.,  48.,  49.,  43.,  55.,  36.,  26.,  33.,  31.,\n",
       "         24.,  23.,  25.,  10.,  25.,  11.,   8.,  14.,  11.,  20.,  16.,\n",
       "         13.,   5.,   7.,  11.,   3.,   3.,   4.,   9.,   3.,   2.,   2.,\n",
       "          1.,   5.,   5.,   3.,   2.,   1.,  10.,   0.,  15.,   2.,   2.,\n",
       "          0.,   1.,   0.,   1.,   0.,   0.,   0.,   0.,   1.,   2.,   0.,\n",
       "          2.]),\n",
       " array([-0.93179855, -0.89681494, -0.86183133, -0.82684773, -0.79186412,\n",
       "        -0.75688051, -0.7218969 , -0.68691329, -0.65192968, -0.61694607,\n",
       "        -0.58196247, -0.54697886, -0.51199525, -0.47701164, -0.44202803,\n",
       "        -0.40704442, -0.37206081, -0.33707721, -0.3020936 , -0.26710999,\n",
       "        -0.23212638, -0.19714277, -0.16215916, -0.12717555, -0.09219195,\n",
       "        -0.05720834, -0.02222473,  0.01275888,  0.04774249,  0.0827261 ,\n",
       "         0.11770971,  0.15269331,  0.18767692,  0.22266053,  0.25764414,\n",
       "         0.29262775,  0.32761136,  0.36259497,  0.39757857,  0.43256218,\n",
       "         0.46754579,  0.5025294 ,  0.53751301,  0.57249662,  0.60748022,\n",
       "         0.64246383,  0.67744744,  0.71243105,  0.74741466,  0.78239827,\n",
       "         0.81738188,  0.85236548,  0.88734909,  0.9223327 ,  0.95731631,\n",
       "         0.99229992,  1.02728353,  1.06226714,  1.09725074,  1.13223435,\n",
       "         1.16721796,  1.20220157,  1.23718518,  1.27216879,  1.3071524 ,\n",
       "         1.342136  ,  1.37711961,  1.41210322,  1.44708683,  1.48207044,\n",
       "         1.51705405,  1.55203766,  1.58702126,  1.62200487,  1.65698848,\n",
       "         1.69197209,  1.7269557 ,  1.76193931,  1.79692291,  1.83190652,\n",
       "         1.86689013,  1.90187374,  1.93685735,  1.97184096,  2.00682457,\n",
       "         2.04180817,  2.07679178,  2.11177539,  2.146759  ,  2.18174261,\n",
       "         2.21672622,  2.25170983,  2.28669343,  2.32167704,  2.35666065,\n",
       "         2.39164426,  2.42662787,  2.46161148,  2.49659509,  2.53157869,\n",
       "         2.5665623 ]),\n",
       " <BarContainer object of 100 artists>)"
      ]
     },
     "execution_count": 24,
     "metadata": {},
     "output_type": "execute_result"
    },
    {
     "data": {
      "image/png": "[encoded data removed]",
      "text/plain": [
       "<Figure size 640x480 with 1 Axes>"
      ]
     },
     "metadata": {},
     "output_type": "display_data"
    }
   ],
   "source": [
    "plt.hist(df[\"pops_score\"], bins=100)"
   ]
  },
  {
   "cell_type": "code",
   "execution_count": null,
   "id": "a0dec154-4598-472d-9eb2-8e48c836d636",
   "metadata": {},
   "outputs": [],
   "source": []
  }
 ],
 "metadata": {
  "kernelspec": {
   "display_name": "Python 3 (ipykernel)",
   "language": "python",
   "name": "python3"
  },
  "language_info": {
   "codemirror_mode": {
    "name": "ipython",
    "version": 3
   },
   "file_extension": ".py",
   "mimetype": "text/x-python",
   "name": "python",
   "nbconvert_exporter": "python",
   "pygments_lexer": "ipython3",
   "version": "3.10.14"
  }
 },
 "nbformat": 4,
 "nbformat_minor": 5
}
