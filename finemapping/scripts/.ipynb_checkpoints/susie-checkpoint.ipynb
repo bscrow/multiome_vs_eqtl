{
 "cells": [
  {
   "cell_type": "code",
   "execution_count": 1,
   "id": "ef328db3-4098-467e-b1c5-29aea9f9bbeb",
   "metadata": {
    "execution": {
     "iopub.execute_input": "2024-09-24T02:09:22.810634Z",
     "iopub.status.busy": "2024-09-24T02:09:22.808112Z",
     "iopub.status.idle": "2024-09-24T02:10:26.994856Z",
     "shell.execute_reply": "2024-09-24T02:10:26.993456Z"
    }
   },
   "outputs": [
    {
     "name": "stderr",
     "output_type": "stream",
     "text": [
      "also installing the dependencies ‘irlba’, ‘RcppArmadillo’, ‘matrixStats’, ‘mixsqp’, ‘reshape’\n",
      "\n",
      "\n",
      "Updating HTML index of packages in '.Library'\n",
      "\n",
      "Making 'packages.html' ...\n",
      " done\n",
      "\n"
     ]
    }
   ],
   "source": [
    "options(repos = c(CRAN = \"https://cloud.r-project.org\"))\n",
    "# Load required library\n",
    "if (!requireNamespace(\"susieR\", quietly = TRUE)) {\n",
    "    install.packages(\"susieR\")\n",
    "}\n",
    "\n",
    "library(susieR)"
   ]
  },
  {
   "cell_type": "code",
   "execution_count": 2,
   "id": "fa2db961-4336-4e3b-9167-8de6f06960bc",
   "metadata": {
    "execution": {
     "iopub.execute_input": "2024-09-24T02:34:44.664535Z",
     "iopub.status.busy": "2024-09-24T02:34:44.642448Z",
     "iopub.status.idle": "2024-09-24T02:34:45.875005Z",
     "shell.execute_reply": "2024-09-24T02:34:45.873697Z"
    }
   },
   "outputs": [
    {
     "name": "stderr",
     "output_type": "stream",
     "text": [
      "── \u001b[1mAttaching core tidyverse packages\u001b[22m ──────────────────────── tidyverse 2.0.0 ──\n",
      "\u001b[32m✔\u001b[39m \u001b[34mdplyr    \u001b[39m 1.1.4     \u001b[32m✔\u001b[39m \u001b[34mreadr    \u001b[39m 2.1.5\n",
      "\u001b[32m✔\u001b[39m \u001b[34mforcats  \u001b[39m 1.0.0     \u001b[32m✔\u001b[39m \u001b[34mstringr  \u001b[39m 1.5.1\n",
      "\u001b[32m✔\u001b[39m \u001b[34mggplot2  \u001b[39m 3.5.1     \u001b[32m✔\u001b[39m \u001b[34mtibble   \u001b[39m 3.2.1\n",
      "\u001b[32m✔\u001b[39m \u001b[34mlubridate\u001b[39m 1.9.3     \u001b[32m✔\u001b[39m \u001b[34mtidyr    \u001b[39m 1.3.1\n",
      "\u001b[32m✔\u001b[39m \u001b[34mpurrr    \u001b[39m 1.0.2     \n",
      "── \u001b[1mConflicts\u001b[22m ────────────────────────────────────────── tidyverse_conflicts() ──\n",
      "\u001b[31m✖\u001b[39m \u001b[34mdplyr\u001b[39m::\u001b[32mfilter()\u001b[39m masks \u001b[34mstats\u001b[39m::filter()\n",
      "\u001b[31m✖\u001b[39m \u001b[34mdplyr\u001b[39m::\u001b[32mlag()\u001b[39m    masks \u001b[34mstats\u001b[39m::lag()\n",
      "\u001b[36mℹ\u001b[39m Use the conflicted package (\u001b[3m\u001b[34m<http://conflicted.r-lib.org/>\u001b[39m\u001b[23m) to force all conflicts to become errors\n"
     ]
    }
   ],
   "source": [
    "library(tidyverse)"
   ]
  },
  {
   "cell_type": "code",
   "execution_count": null,
   "id": "315098a1-094d-4378-a7ef-634c8bf3c705",
   "metadata": {},
   "outputs": [],
   "source": []
  }
 ],
 "metadata": {
  "kernelspec": {
   "display_name": "R",
   "language": "R",
   "name": "ir"
  },
  "language_info": {
   "codemirror_mode": "r",
   "file_extension": ".r",
   "mimetype": "text/x-r-source",
   "name": "R",
   "pygments_lexer": "r",
   "version": "4.4.1"
  }
 },
 "nbformat": 4,
 "nbformat_minor": 5
}
